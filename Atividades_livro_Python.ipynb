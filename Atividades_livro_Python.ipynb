{
 "cells": [
  {
   "cell_type": "markdown",
   "metadata": {},
   "source": [
    "**CAP 2 SE NÃO PRATICAR NÃO VAI FIXAR** \n",
    "\n",
    "Exercícios de fixação\n",
    "1. Explique o conceito de variável em Python. Por que as variáveis são fundamentais\n",
    "em programação e como elas se relacionam com o armazenamento de dados em\n",
    "inteligência artificial?\n",
    "2. Qual é a diferença entre os operadores aritméticos, comparativos e lógicos em\n",
    "Python? Dê exemplos de situações práticas em que cada tipo de operador seria\n",
    "utilizado em uma aplicação de inteligência artificial.\n",
    "3. Descreva como as strings são manipuladas em Python. Por que a manipulação de\n",
    "strings é importante em aplicações de Processamento de Linguagem Natural (NLP)?\n",
    "4. Como o conceito de escopo de variáveis afeta a execução de um programa?\n",
    "Explique com exemplos como variáveis globais e locais podem ser utilizadas de forma\n",
    "eficaz.\n",
    "5. Qual é o papel dos tipos de dados primitivos (inteiros, floats e booleanos) em\n",
    "um programa Python? Discuta como cada tipo de dado é utilizado em algoritmos de\n",
    "inteligência artificial e dê exemplos práticos.\n",
    "6. Manipulação de Strings Escreva um programa que peça ao usuário para digitar seu\n",
    "nome completo e, em seguida, exiba o nome em maiúsculas, minúsculas, e apenas com\n",
    "as iniciais de cada nome em maiúsculas.\n",
    "7. Cálculo de Área e Perímetro Crie um programa que solicite ao usuário a largura e\n",
    "altura de um retângulo e calcule tanto a área quanto o perímetro. Exiba os resultados\n",
    "para o usuário.\n",
    "8. Comparação de Idades Escreva um programa que peça ao usuário para inserir duas\n",
    "idades e compare qual delas é maior, menor ou se são iguais, mostrando mensagens\n",
    "adequadas para cada situação.\n",
    "9. Conversão de Temperatura Crie um programa que solicite ao usuário uma temperatura\n",
    "em graus Celsius e a converta para Fahrenheit e Kelvin. Exiba os resultados para o\n",
    "usuário.\n",
    "10. Contagem de Caracteres Escreva um programa que peça ao usuário para digitar uma\n",
    "frase e conte quantos caracteres, palavras e letras maiúsculas há na frase.\n",
    "11. Verificação de Número Par ou Ímpar Crie um programa que solicite ao usuário um nú-\n",
    "mero inteiro e verifique se ele é par ou ímpar, exibindo uma mensagem correspondente.\n",
    "12. Calculadora Simples Escreva um programa que funcione como uma calculadora sim-\n",
    "ples, permitindo ao usuário escolher entre adição, subtração, multiplicação e divisão.\n",
    "Solicite dois números e exiba o resultado da operação escolhida.\n",
    "13. Conversão de Moeda Crie um programa que pergunte ao usuário a quantia em reais\n",
    "(BRL) e a taxa de câmbio atual para dólares (USD). Calcule e exiba o valor convertido\n",
    "em dólares.\n",
    "14. Reverso de String Escreva um programa que solicite ao usuário uma string e exiba o\n",
    "reverso dessa string.\n",
    "15. Calculadora de Média Ponderada Desenvolva um programa que calcule a média\n",
    "ponderada de três notas, onde o usuário deve informar as notas e seus respectivos\n",
    "pesos. Exiba o resultado para o usuário.\n",
    "\n"
   ]
  },
  {
   "cell_type": "markdown",
   "metadata": {},
   "source": [
    "1. Explique o conceito de variável em Python. Por que as variáveis são fundamentais\n",
    "  em programação e como elas se relacionam com o armazenamento de dados em inteligência artificial?\n",
    "\n",
    "Em Python, uma variável é um nome que aponta para um valor armazenado na memória.\n",
    "As variáveis permitem armazenar, modificar e acessar dados de forma eficiente.\n",
    "Em inteligência artificial, as variáveis são usadas para armazenar dados de entrada, parâmetros de modelos, resultados intermediários e saídas finais,\n",
    "facilitando o processamento e a análise de grandes volumes de dados.\n",
    "\n"
   ]
  },
  {
   "cell_type": "markdown",
   "metadata": {
    "vscode": {
     "languageId": "plaintext"
    }
   },
   "source": [
    " 2. Qual é a diferença entre os operadores aritméticos, comparativos e lógicos em Python? Dê exemplos de situações práticas em que cada tipo de operador seria utilizado em uma aplicação de inteligência artificial.\n",
    "\n",
    "\n",
    "Operadores aritméticos realizam operações matemáticas básicas, como adição (+),\n",
    "subtração (-), multiplicação (*), e divisão (/). Exemplo: calcular a média de uma lista de números.\n",
    "Operadores comparativos comparam valores e retornam um valor booleano (True ou False).\n",
    "Exemplo: verificar se um número é maior que um valor específico.\n",
    "Operadores lógicos combinam expressões booleanas e retornam um valor booleano.\n",
    "Exemplo: verificar se um valor está dentro de um intervalo específico.\n"
   ]
  },
  {
   "cell_type": "markdown",
   "metadata": {
    "vscode": {
     "languageId": "plaintext"
    }
   },
   "source": [
    "3. Descreva como as strings são manipuladas em Python. Por que a manipulação de strings é importante em aplicações de Processamento de Linguagem Natural (NLP)?\n",
    "\n",
    "Em Python, strings podem ser manipuladas usando métodos como split(), join(), replace(), lower(), upper(), entre outros. A manipulação de strings permite o pré-processamento de texto, como tokenização, remoção de stopwords, stemming, e lematização, que são etapas essenciais para a análise e compreensão de dados textuais.\n"
   ]
  },
  {
   "cell_type": "code",
   "execution_count": 15,
   "metadata": {},
   "outputs": [
    {
     "name": "stdout",
     "output_type": "stream",
     "text": [
      "O valor inserido para local_var =  2\n",
      "global_var =  10\n",
      "a soma das variáveis é:  12\n"
     ]
    }
   ],
   "source": [
    "\n",
    "\"\"\"4. Como o conceito de escopo de variáveis afeta a execução de um programa? Explique com exemplos como variáveis globais e locais podem ser utilizadas de forma eficaz.\n",
    "\n",
    "O escopo de uma variável determina onde ela pode ser acessada no código. Variáveis globais são definidas fora de funções e podem ser acessadas em qualquer parte do programa.\n",
    "Variáveis locais são definidas dentro de funções e só podem ser acessadas dentro dessas funções. Usar variáveis locais ajuda a evitar conflitos de nomes e facilita a manutenção do código. \n",
    "\"\"\"\n",
    "\n",
    "# Definir uma variável global\n",
    "global_var = 10\n",
    "\n",
    "def soma_var():\n",
    "    \"\"\"\n",
    "    Função que solicita ao usuário um número inteiro, imprime o valor inserido e a variável global,\n",
    "    e retorna a soma da variável global com o valor inserido.\n",
    "    \"\"\"\n",
    "    # Solicitar ao usuário um número inteiro e armazenar na variável local\n",
    "    local_var = int(input(\"Digite um número inteiro: \"))\n",
    "    \n",
    "    # Imprimir o valor inserido pelo usuário\n",
    "    print(\"O valor inserido para local_var = \", local_var)\n",
    "    \n",
    "    # Imprimir o valor da variável global\n",
    "    print(\"global_var = \", global_var)\n",
    "    \n",
    "    # Retornar a soma da variável global com a variável local\n",
    "    return global_var + local_var\n",
    "\n",
    "# Chamar a função soma_var e imprimir o resultado\n",
    "print(\"A soma das variáveis é: \", soma_var())"
   ]
  },
  {
   "cell_type": "markdown",
   "metadata": {},
   "source": [
    "5. Qual é o papel dos tipos de dados primitivos (inteiros, floats e booleanos) em um programa Python? Discuta como cada tipo de dado é utilizado em algoritmos de inteligência artificial e dê exemplos práticos.\n",
    "\n",
    "Inteiros são usados para contagens e índices. Exemplo: número de iterações.\n",
    "Floats são usados para representar números reais e são essenciais para cálculos precisos. Exemplo: pesos.\n",
    "Booleanos representam valores de verdade (True ou False) e são usados em condicionais e loops. Exemplo: verificar se uma condição de parada foi atingida."
   ]
  },
  {
   "cell_type": "code",
   "execution_count": 19,
   "metadata": {},
   "outputs": [
    {
     "name": "stdout",
     "output_type": "stream",
     "text": [
      "entrada do usuário: george myller esteves de souza\n",
      "GEORGE MYLLER ESTEVES DE SOUZA\n",
      "george myller esteves de souza\n",
      "George Myller Esteves De Souza\n"
     ]
    }
   ],
   "source": [
    "\"\"\"6. Manipulação de Strings Escreva um programa que peça ao usuário para digitar seu nome completo e, em seguida, exiba o nome em maiúsculas, minúsculas, e apenas com as iniciais de cada nome em maiúsculas.\n",
    "\"\"\"\n",
    "\n",
    "# Solicita ao usuário que digite seu nome completo e armazena a entrada na variável 'nome_completo'\n",
    "nome_completo = input(\"Digite seu nome completo: \")\n",
    "\n",
    "# Imprime a entrada do usuário\n",
    "print(\"entrada do usuário:\", nome_completo)\n",
    "\n",
    "# Converte o nome completo para letras maiúsculas e imprime o resultado\n",
    "print(nome_completo.upper())\n",
    "\n",
    "# Converte o nome completo para letras minúsculas e imprime o resultado\n",
    "print(nome_completo.lower())\n",
    "\n",
    "# Converte a primeira letra de cada palavra do nome completo para maiúscula e imprime o resultado\n",
    "print(nome_completo.title())"
   ]
  },
  {
   "cell_type": "code",
   "execution_count": 21,
   "metadata": {},
   "outputs": [
    {
     "name": "stdout",
     "output_type": "stream",
     "text": [
      "largura: 2.5, altura: 1.5\n",
      "Área: 3.75, Perímetro: 8.0\n"
     ]
    }
   ],
   "source": [
    "\"\"\"7. Cálculo de Área e Perímetro Crie um programa que solicite ao usuário a largura e altura de um retângulo e calcule tanto a área quanto o perímetro. Exiba os resultados para o usuário.\n",
    "\"\"\"\n",
    "# Solicita ao usuário que digite a largura do retângulo e converte a entrada para um número de ponto flutuante\n",
    "largura = float(input(\"Digite a largura do retângulo: \"))\n",
    "\n",
    "# Solicita ao usuário que digite a altura do retângulo e converte a entrada para um número de ponto flutuante\n",
    "altura = float(input(\"Digite a altura do retângulo: \"))\n",
    "\n",
    "# Imprime os valores de largura e altura fornecidos pelo usuário\n",
    "print(f\"largura: {largura}, altura: {altura}\")\n",
    "\n",
    "# Calcula a área do retângulo multiplicando a largura pela altura\n",
    "area = largura * altura\n",
    "\n",
    "# Calcula o perímetro do retângulo somando duas vezes a largura e duas vezes a altura\n",
    "perimetro = 2 * (largura + altura)\n",
    "\n",
    "# Imprime a área e o perímetro do retângulo\n",
    "print(f\"Área: {area}, Perímetro: {perimetro}\")"
   ]
  },
  {
   "cell_type": "code",
   "execution_count": 22,
   "metadata": {},
   "outputs": [
    {
     "name": "stdout",
     "output_type": "stream",
     "text": [
      "idade1: 25, idade2: 32\n",
      "A segunda idade é maior.\n"
     ]
    }
   ],
   "source": [
    "\n",
    "\"\"\" 8. Comparação de Idades Escreva um programa que peça ao usuário para inserir duas idades e compare qual delas é maior, menor ou se são iguais, mostrando mensagens adequadas para cada situação.\n",
    "\"\"\"\n",
    "# Solicita ao usuário que digite a primeira idade e converte a entrada para um número inteiro\n",
    "idade1 = int(input(\"Digite a primeira idade: \"))\n",
    "\n",
    "# Solicita ao usuário que digite a segunda idade e converte a entrada para um número inteiro\n",
    "idade2 = int(input(\"Digite a segunda idade: \"))\n",
    "\n",
    "# Imprime as idades fornecidas pelo usuário\n",
    "print(f\"idade1: {idade1}, idade2: {idade2}\")\n",
    "\n",
    "# Compara as idades e imprime a mensagem adequada\n",
    "if idade1 > idade2:\n",
    "    print(\"A primeira idade é maior.\")\n",
    "elif idade1 < idade2:\n",
    "    print(\"A segunda idade é maior.\")\n",
    "else:\n",
    "    print(\"As idades são iguais.\")"
   ]
  },
  {
   "cell_type": "code",
   "execution_count": 24,
   "metadata": {},
   "outputs": [
    {
     "name": "stdout",
     "output_type": "stream",
     "text": [
      "Celcius: 32.0, Fahrenheit: 89.6, Kelvin: 305.15\n"
     ]
    }
   ],
   "source": [
    "\"\"\" 9. Conversão de Temperatura Crie um programa que solicite ao usuário uma temperatura em graus Celsius e a converta para Fahrenheit e Kelvin. Exiba os resultados para o usuário.\n",
    "\"\"\"\n",
    "# Solicita ao usuário que digite a temperatura em graus Celsius e converte a entrada para um número de ponto flutuante\n",
    "celsius = float(input(\"Digite a temperatura em graus Celsius: \"))\n",
    "\n",
    "# Converte a temperatura de Celsius para Fahrenheit usando a fórmula (Celsius * 9/5) + 32\n",
    "fahrenheit = (celsius * 9/5) + 32\n",
    "\n",
    "# Converte a temperatura de Celsius para Kelvin adicionando 273.15\n",
    "kelvin = celsius + 273.15\n",
    "\n",
    "# Imprime as temperaturas em Celsius, Fahrenheit e Kelvin\n",
    "print(f\"Celcius: {celsius}, Fahrenheit: {fahrenheit}, Kelvin: {kelvin}\")"
   ]
  },
  {
   "cell_type": "code",
   "execution_count": 25,
   "metadata": {},
   "outputs": [
    {
     "name": "stdout",
     "output_type": "stream",
     "text": [
      "entrada do usuário: Contagem de Caracteres Escreva um programa que peça ao usuário para digitar uma frase e conte quantos caracteres, palavras e letras maiúsculas há na frase.\n",
      "Caracteres: 155, Palavras: 25, Maiúsculas: 3\n"
     ]
    }
   ],
   "source": [
    "\"\"\"10. Contagem de Caracteres Escreva um programa que peça ao usuário para digitar uma frase e conte quantos caracteres, palavras e letras maiúsculas há na frase.\n",
    "\"\"\"\n",
    "# Solicita ao usuário que digite uma frase e armazena a entrada na variável 'frase'\n",
    "frase = input(\"Digite uma frase: \")  \n",
    "\n",
    "# Imprime a entrada do usuário\n",
    "print(\"entrada do usuário:\", frase)\n",
    "\n",
    "# Conta o número de caracteres na frase\n",
    "num_caracteres = len(frase)\n",
    "\n",
    "# Conta o número de palavras na frase, dividindo a frase em palavras usando o método split()\n",
    "num_palavras = len(frase.split())\n",
    "\n",
    "# Conta o número de letras maiúsculas na frase, iterando sobre cada caractere e verificando se é maiúsculo\n",
    "num_maiusculas = sum(1 for c in frase if c.isupper())\n",
    "\n",
    "# Imprime o número de caracteres, palavras e letras maiúsculas na frase\n",
    "print(f\"Caracteres: {num_caracteres}, Palavras: {num_palavras}, Maiúsculas: {num_maiusculas}\")\n"
   ]
  },
  {
   "cell_type": "code",
   "execution_count": 27,
   "metadata": {},
   "outputs": [
    {
     "name": "stdout",
     "output_type": "stream",
     "text": [
      "entrada do usuário: 5\n",
      "O número é ímpar.\n"
     ]
    }
   ],
   "source": [
    "\"\"\"11. Verificação de Número Par ou Ímpar Crie um programa que solicite ao usuário um número inteiro e verifique se ele é par ou ímpar, exibindo uma mensagem correspondente.\n",
    "\"\"\"\n",
    "# Solicita ao usuário que digite um número inteiro e armazena a entrada na variável 'numero'\n",
    "numero = int(input(\"Digite um número inteiro: \"))\n",
    "\n",
    "# Imprime a entrada do usuário\n",
    "print(\"entrada do usuário:\", numero)\n",
    "\n",
    "# Verifica se o número é par ou ímpar usando o operador de módulo (%)\n",
    "if numero % 2 == 0:\n",
    "    # Se o resto da divisão por 2 for 0, o número é par\n",
    "    print(\"O número é par.\")\n",
    "else:\n",
    "    # Caso contrário, o número é ímpar\n",
    "    print(\"O número é ímpar.\")"
   ]
  },
  {
   "cell_type": "code",
   "execution_count": 31,
   "metadata": {},
   "outputs": [
    {
     "name": "stdout",
     "output_type": "stream",
     "text": [
      "Operação: /, num1: 7.0, num2: 8.0\n",
      "Resultado: 0.875\n"
     ]
    }
   ],
   "source": [
    "\n",
    "\"\"\"12. Calculadora Simples Escreva um programa que funcione como uma calculadora simples, permitindo ao usuário escolher entre adição, subtração, multiplicação e divisão.\n",
    "Solicite dois números e exiba o resultado da operação escolhida.\n",
    "\"\"\"\n",
    "\n",
    "\n",
    "# Solicita ao usuário que escolha a operação desejada\n",
    "operacao = input(\"Escolha a operação (+, -, *, /): \")\n",
    "\n",
    "# Solicita ao usuário que digite o primeiro número e converte para float\n",
    "num1 = float(input(\"Digite o primeiro número: \"))\n",
    "\n",
    "# Solicita ao usuário que digite o segundo número e converte para float\n",
    "num2 = float(input(\"Digite o segundo número: \"))\n",
    "\n",
    "# Imprime a operação escolhida e os números fornecidos pelo usuário\n",
    "print(f\"Operação: {operacao}, num1: {num1}, num2: {num2}\")\n",
    "\n",
    "# Verifica se a operação é divisão e se o segundo número é zero\n",
    "if num2 == 0 and operacao == '/':\n",
    "    resultado = \"Divisão por zero\"\n",
    "\n",
    "# Verifica se a operação é adição\n",
    "if operacao == '+':\n",
    "    resultado = num1 + num2\n",
    "\n",
    "# Verifica se a operação é subtração\n",
    "elif operacao == '-':\n",
    "    resultado = num1 - num2\n",
    "\n",
    "# Verifica se a operação é multiplicação\n",
    "elif operacao == '*':\n",
    "    resultado = num1 * num2\n",
    "\n",
    "# Verifica se a operação é divisão\n",
    "elif operacao == '/':\n",
    "    resultado = num1 / num2\n",
    "\n",
    "# Caso a operação não seja válida\n",
    "else:\n",
    "    resultado = \"Operação inválida\"\n",
    "\n",
    "# Imprime o resultado da operação\n",
    "print(f\"Resultado: {resultado}\")"
   ]
  },
  {
   "cell_type": "code",
   "execution_count": 34,
   "metadata": {},
   "outputs": [
    {
     "name": "stdout",
     "output_type": "stream",
     "text": [
      "Valor em Reais(BRL):10.0, Valor da taxa de câmbio: 5.5, Valor em dólares (USD): 55.0\n"
     ]
    }
   ],
   "source": [
    "\"\"\"13. Conversão de Moeda Crie um programa que pergunte ao usuário a quantia em reais (BRL) e a taxa de câmbio atual para dólares (USD). \n",
    "Calcule e exiba o valor convertido em dólares.\n",
    "\"\"\"\n",
    "# Solicita ao usuário que digite a quantia em reais (BRL) e converte a entrada para um número de ponto flutuante\n",
    "brl = float(input(\"Digite a quantia em reais (BRL): \"))\n",
    "\n",
    "# Solicita ao usuário que digite a taxa de câmbio atual para dólares (USD) e converte a entrada para um número de ponto flutuante\n",
    "taxa_cambio = float(input(\"Digite a taxa de câmbio atual para dólares (USD): \"))\n",
    "\n",
    "# Calcula o valor convertido em dólares (USD) multiplicando a quantia em reais pela taxa de câmbio\n",
    "usd = brl * taxa_cambio\n",
    "\n",
    "# Imprime o valor em reais, a taxa de câmbio e o valor convertido em dólares\n",
    "print(f\"Valor em Reais(BRL):{brl}, Valor da taxa de câmbio: {taxa_cambio}, Valor em dólares (USD): {usd}\")"
   ]
  },
  {
   "cell_type": "code",
   "execution_count": 35,
   "metadata": {},
   "outputs": [
    {
     "name": "stdout",
     "output_type": "stream",
     "text": [
      "Olá\n",
      "Reverso da string: álO\n"
     ]
    }
   ],
   "source": [
    "\"\"\"14. Reverso de String Escreva um programa que solicite ao usuário uma string e exiba o reverso dessa string.\n",
    "\"\"\"\n",
    "# Solicita ao usuário que digite uma string e armazena a entrada na variável 'string'\n",
    "string = input(\"Digite uma string: \")\n",
    "\n",
    "# Imprime a string fornecida pelo usuário\n",
    "print(string)\n",
    "\n",
    "# Inverte a string usando slicing e imprime o resultado\n",
    "print(f\"Reverso da string: {string[::-1]}\")"
   ]
  },
  {
   "cell_type": "code",
   "execution_count": 37,
   "metadata": {},
   "outputs": [
    {
     "name": "stdout",
     "output_type": "stream",
     "text": [
      "Nota1: 10.0, Peso1: 4.0, Nota2: 8.0, Peso2: 2.0, Nota3: 9.0, Peso3: 4.0\n",
      "Média ponderada: 9.2\n"
     ]
    }
   ],
   "source": [
    "\"\"\"15. Calculadora de Média Ponderada Desenvolva um programa que calcule a média ponderada de três notas, onde o usuário deve informar as notas e seus respectivos pesos.\n",
    "Exiba o resultado para o usuário.\n",
    "\"\"\"\n",
    "# Solicita ao usuário que digite a primeira nota e converte a entrada para um número de ponto flutuante\n",
    "nota1 = float(input(\"Digite a primeira nota: \"))\n",
    "\n",
    "# Solicita ao usuário que digite o peso da primeira nota e converte a entrada para um número de ponto flutuante\n",
    "peso1 = float(input(\"Digite o peso da primeira nota: \"))\n",
    "\n",
    "# Solicita ao usuário que digite a segunda nota e converte a entrada para um número de ponto flutuante\n",
    "nota2 = float(input(\"Digite a segunda nota: \"))\n",
    "\n",
    "# Solicita ao usuário que digite o peso da segunda nota e converte a entrada para um número de ponto flutuante\n",
    "peso2 = float(input(\"Digite o peso da segunda nota: \"))\n",
    "\n",
    "# Solicita ao usuário que digite a terceira nota e converte a entrada para um número de ponto flutuante\n",
    "nota3 = float(input(\"Digite a terceira nota: \"))\n",
    "\n",
    "# Solicita ao usuário que digite o peso da terceira nota e converte a entrada para um número de ponto flutuante\n",
    "peso3 = float(input(\"Digite o peso da terceira nota: \"))\n",
    "\n",
    "# Calcula a média ponderada das três notas usando os respectivos pesos\n",
    "media_ponderada = (nota1 * peso1 + nota2 * peso2 + nota3 * peso3) / (peso1 + peso2 + peso3)\n",
    "\n",
    "# Imprime as notas e os pesos fornecidos pelo usuário\n",
    "print(f\"Nota1: {nota1}, Peso1: {peso1}, Nota2: {nota2}, Peso2: {peso2}, Nota3: {nota3}, Peso3: {peso3}\")\n",
    "\n",
    "# Imprime a média ponderada calculada\n",
    "print(f\"Média ponderada: {media_ponderada}\")"
   ]
  },
  {
   "cell_type": "markdown",
   "metadata": {},
   "source": [
    "**Cap3 A PRÁTICA LEVA À EXCELÊNCIA **\n",
    "\n",
    "1. Crie um programa que solicite ao usuário um número inteiro e verifique se ele é positivo,\n",
    "negativo ou zero. Exiba a mensagem correspondente para cada caso.\n",
    "2. Implemente um programa que solicite ao usuário uma palavra e conte quantas letras ’a’\n",
    "(maiúscula ou minúscula) estão presentes na palavra. Utilize um loop para iterar sobre\n",
    "os caracteres da palavra.\n",
    "3. Desenvolva um programa que peça ao usuário para inserir sua idade e determine se ele\n",
    "é menor de idade, adulto ou idoso. Considere as faixas etárias: menor de idade (menos\n",
    "de 18 anos), adulto (18 a 64 anos) e idoso (65 anos ou mais).\n",
    "4. Escreva um programa que gere e exiba todos os números pares entre 1 e 20. Utilize um\n",
    "loop for para iterar sobre os números e uma estrutura condicional para verificar se o\n",
    "número é par.\n",
    "5. Crie um programa que solicite ao usuário para inserir uma lista de nomes separados por\n",
    "vírgulas e exiba cada nome em uma nova linha. Utilize um loop para percorrer a lista de\n",
    "nomes.\n",
    "6. Implemente um programa que calcule o fatorial de um número inteiro positivo fornecido\n",
    "pelo usuário. Utilize um loop while para realizar o cálculo e exibir o resultado.\n",
    "7. Crie um programa que leia a nota de 5 alunos e armazene essas notas em uma lista. O\n",
    "programa deve calcular e exibir a média das notas e também a quantidade de alunos\n",
    "que ficaram acima e abaixo da média.\n",
    "8. Desenvolva um programa que simule um caixa eletrônico. O programa deve permitir que\n",
    "o usuário insira o valor de saque desejado (em múltiplos de 10) e exiba quantas cédulas\n",
    "de cada denominação (R$100, R$50, R$20, R$10) serão necessárias para totalizar o\n",
    "valor do saque, utilizando o menor número possível de cédulas.\n",
    "9. Implemente um jogo de adivinhação onde o programa escolhe um número aleatório\n",
    "entre 1 e 100, e o usuário tenta adivinhar o número. O programa deve fornecer dicas\n",
    "como ’Maior’ ou ’Menor’ após cada tentativa, limitar o número de tentativas a 7 e exibir\n",
    "uma mensagem de sucesso ou falha ao final do jogo.\n",
    "10. Crie um programa que receba um texto e conte a frequência de cada palavra, ignorando\n",
    "maiúsculas e minúsculas. O programa deve exibir uma lista de palavras únicas e o\n",
    "número de vezes que cada uma aparece no texto. Utilize estruturas de dicionário e loops\n",
    "para realizar o processamento."
   ]
  },
  {
   "cell_type": "code",
   "execution_count": null,
   "metadata": {},
   "outputs": [
    {
     "name": "stdout",
     "output_type": "stream",
     "text": [
      "entrada do usuário: 6\n",
      "O número é positivo.\n"
     ]
    }
   ],
   "source": [
    "\"\"\"1. Crie um programa que solicite ao usuário um número inteiro e verifique se ele é positivo, negativo ou zero. Exiba a mensagem correspondente para cada caso.\"\"\"\n",
    "\n",
    "# Solicita ao usuário que digite um número inteiro e armazena a entrada na variável 'insere_numero'\n",
    "insere_numero = int(input(\"Digite um número inteiro: \"))\n",
    "\n",
    "# Imprime a entrada do usuário\n",
    "print(\"entrada do usuário:\", insere_numero)\n",
    "\n",
    "# Verifica se o número é positivo\n",
    "if insere_numero > 0:\n",
    "    print(\"O número é positivo.\")\n",
    "\n",
    "# Verifica se o número é negativo\n",
    "elif insere_numero < 0:\n",
    "    print(\"O número é negativo.\")\n",
    "\n",
    "# Caso contrário, o número é zero\n",
    "else:    \n",
    "    print(\"O número é zero.\")"
   ]
  },
  {
   "cell_type": "code",
   "execution_count": null,
   "metadata": {},
   "outputs": [
    {
     "name": "stdout",
     "output_type": "stream",
     "text": [
      "entrada do usuário: Abacate\n",
      "Quantidade de letras 'a': 3\n"
     ]
    }
   ],
   "source": [
    "\"\"\"2. Implemente um programa que solicite ao usuário uma palavra e conte quantas letras ’a’ (maiúscula ou minúscula) estão presentes na palavra. \n",
    "Utilize um loop para iterar sobre os caracteres da palavra.\"\"\"\n",
    "palavra = input(\"Digite uma palavra: \")\n",
    "print(\"entrada do usuário:\", palavra)\n",
    "contagem = 0\n",
    "for letra in palavra:\n",
    "    if letra == 'a' or letra == 'A':\n",
    "        contagem += 1\n",
    "print(f\"Quantidade de letras 'a': {contagem}\")\n"
   ]
  },
  {
   "cell_type": "code",
   "execution_count": 2,
   "metadata": {},
   "outputs": [
    {
     "name": "stdout",
     "output_type": "stream",
     "text": [
      "Idade digitada: 35\n",
      "Adulto.\n"
     ]
    }
   ],
   "source": [
    "\"\"\"3. Desenvolva um programa que peça ao usuário para inserir sua idade e determine se ele é menor de idade, adulto ou idoso.\n",
    "Considere as faixas etárias: menor de idade (menos de 18 anos), adulto (18 a 64 anos) e idoso (65 anos ou mais).\"\"\"\n",
    "\n",
    "# Solicita ao usuário que insira sua idade e armazena a entrada na variável 'entrada_idade'\n",
    "entrada_idade = int(input(\"Digite sua idade: \"))\n",
    "\n",
    "# Imprime a idade digitada pelo usuário\n",
    "print(\"Idade digitada:\", entrada_idade)\n",
    "\n",
    "# Verifica se a idade é menor que 18\n",
    "if entrada_idade < 18:\n",
    "    # Se a idade for menor que 18, imprime \"Menor de idade.\"\n",
    "    print(\"Menor de idade.\")\n",
    "# Verifica se a idade é menor que 65\n",
    "elif entrada_idade < 65:\n",
    "    # Se a idade for menor que 65, imprime \"Adulto.\"\n",
    "    print(\"Adulto.\")\n",
    "# Caso contrário, a idade é 65 ou mais\n",
    "else: \n",
    "    # Imprime \"Idoso.\"\n",
    "    print(\"Idoso.\")\n",
    "    "
   ]
  },
  {
   "cell_type": "code",
   "execution_count": null,
   "metadata": {},
   "outputs": [
    {
     "name": "stdout",
     "output_type": "stream",
     "text": [
      "Números pares entre 1 e 20: [2, 4, 6, 8, 10, 12, 14, 16, 18, 20]\n"
     ]
    }
   ],
   "source": [
    "\"\"\"4. Escreva um programa que gere e exiba todos os números pares entre 1 e 20. \n",
    "Utilize um loop for para iterar sobre os números e uma estrutura condicional para verificar se o número é par.\"\"\"\n",
    "\n",
    "# Cria uma lista de números de 1 a 20\n",
    "numeros = list(range(1, 21))\n",
    "\n",
    "# Inicializa uma lista vazia para armazenar os números pares\n",
    "pares = []\n",
    "\n",
    "# Itera sobre cada número na lista 'numeros'\n",
    "for i in numeros:\n",
    "    # Verifica se o número é par\n",
    "    if i % 2 == 0:\n",
    "        # Adiciona o número par à lista 'pares'\n",
    "        pares.append(i)\n",
    "\n",
    "# Imprime a lista de números pares entre 1 e 20\n",
    "print(f\"Números pares entre 1 e 20: {pares}\")\n"
   ]
  },
  {
   "cell_type": "code",
   "execution_count": 4,
   "metadata": {},
   "outputs": [
    {
     "name": "stdout",
     "output_type": "stream",
     "text": [
      "entrada do usuário: Maria, Antonio, Adalberto, Creuza\n",
      "Maria\n",
      " Antonio\n",
      " Adalberto\n",
      " Creuza\n"
     ]
    }
   ],
   "source": [
    "\"\"\"5. Crie um programa que solicite ao usuário para inserir uma lista de nomes separados por vírgulas e exiba cada nome em uma nova linha. \n",
    "Utilize um loop para percorrer a lista de nomes.\"\"\"\n",
    "\n",
    "\n",
    "# Solicita ao usuário para inserir uma lista de nomes separados por vírgulas e armazena a entrada na variável 'lista_nomes'\n",
    "lista_nomes = input(\"Digite uma lista de nomes separados por vírgulas: \")\n",
    "\n",
    "# Imprime a entrada fornecida pelo usuário\n",
    "print(\"entrada do usuário:\", lista_nomes)\n",
    "\n",
    "# Divide a string de nomes em uma lista, usando a vírgula como delimitador\n",
    "nomes = lista_nomes.split(',')\n",
    "\n",
    "# Itera sobre cada nome na lista 'nomes'\n",
    "for nome in nomes:\n",
    "    # Imprime cada nome em uma nova linha\n",
    "    print(nome)\n",
    "    "
   ]
  },
  {
   "cell_type": "code",
   "execution_count": null,
   "metadata": {},
   "outputs": [
    {
     "name": "stdout",
     "output_type": "stream",
     "text": [
      "entrada do usuário: 5\n",
      "Fatorial de 5: 120\n"
     ]
    }
   ],
   "source": [
    "\"\"\"6. Implemente um programa que calcule o fatorial de um número inteiro positivo fornecido pelo usuário. \n",
    "Utilize um loop while para realizar o cálculo e exibir o resultado.\"\"\"\n",
    "\n",
    "\n",
    "# Solicita ao usuário que digite um número inteiro positivo e armazena a entrada na variável 'numero'\n",
    "numero = int(input(\"Digite um número inteiro positivo: \"))\n",
    "\n",
    "# Imprime a entrada do usuário\n",
    "print(\"entrada do usuário:\", numero)\n",
    "\n",
    "# Inicializa a variável 'fatorial' com o valor 1\n",
    "fatorial = 1\n",
    "\n",
    "# Inicializa a variável 'i' com o valor 1\n",
    "i = 1\n",
    "\n",
    "# Loop while para calcular o fatorial do número\n",
    "while i <= numero:\n",
    "    # Multiplica 'fatorial' pelo valor de 'i' e armazena o resultado em 'fatorial'\n",
    "    fatorial *= i\n",
    "    # Incrementa o valor de 'i' em 1\n",
    "    i += 1\n",
    "\n",
    "# Imprime o resultado do fatorial\n",
    "print(f\"Fatorial de {numero}: {fatorial}\")"
   ]
  },
  {
   "cell_type": "code",
   "execution_count": null,
   "metadata": {},
   "outputs": [
    {
     "name": "stdout",
     "output_type": "stream",
     "text": [
      "entrada do usuário: ['1', '2', '2', '3', '4']\n",
      "Média das notas: 2.4, Alunos acima da média: 2, Alunos abaixo da média: 3\n"
     ]
    }
   ],
   "source": [
    "\"\"\"7. Crie um programa que leia a nota de 5 alunos e armazene essas notas em uma lista. O programa deve calcular e exibir a média das notas e também a quantidade de alunos que ficaram acima e abaixo da média.\"\"\"\n",
    "\n",
    "# Inicializa uma lista vazia para armazenar as notas dos alunos\n",
    "notas = []\n",
    "\n",
    "# Loop para solicitar as notas de 5 alunos\n",
    "for i in range(5):\n",
    "    # Solicita a entrada da nota do aluno e armazena na variável 'entrada'\n",
    "    entrada = input(\"Insira as notas dos alunos: \")\n",
    "    # Adiciona a nota à lista 'notas'\n",
    "    notas.append(entrada)   \n",
    "\n",
    "# Imprime a lista de notas fornecidas pelo usuário\n",
    "print(\"entrada do usuário:\", notas)\n",
    "\n",
    "# Converte as notas de strings para floats\n",
    "notas = [float(nota) for nota in notas]\n",
    "\n",
    "# Calcula a média das notas\n",
    "media = sum(notas) / len(notas)\n",
    "\n",
    "# Conta quantos alunos têm notas acima da média\n",
    "acima = sum(1 for nota in notas if nota > media)\n",
    "\n",
    "# Conta quantos alunos têm notas abaixo da média\n",
    "abaixo = sum(1 for nota in notas if nota < media)\n",
    "\n",
    "# Imprime a média das notas, a quantidade de alunos acima da média e a quantidade de alunos abaixo da média\n",
    "print(f\"Média das notas: {media}, Alunos acima da média: {acima}, Alunos abaixo da média: {abaixo}\")"
   ]
  },
  {
   "cell_type": "code",
   "execution_count": null,
   "metadata": {},
   "outputs": [
    {
     "name": "stdout",
     "output_type": "stream",
     "text": [
      "entrada do usuário: 90\n",
      "Cédulas de R$100: 0, Cédulas de R$50: 1, Cédulas de R$20: 2, Cédulas de R$10: 0\n"
     ]
    }
   ],
   "source": [
    "\"\"\"8. Desenvolva um programa que simule um caixa eletrônico. O programa deve permitir que\n",
    "o usuário insira o valor de saque desejado (em múltiplos de 10) e exiba quantas cédulas\n",
    "de cada denominação (R$100, R$50, R$20, R$10) serão necessárias para totalizar o\n",
    "valor do saque, utilizando o menor número possível de cédulas.\"\"\"\n",
    "\n",
    "# Solicita ao usuário que insira o valor do saque em múltiplos de 10 e armazena a entrada na variável 'saque'\n",
    "saque = int(input(\"Digite o valor do saque (múltiplos de 10): \"))\n",
    "\n",
    "# Imprime a entrada fornecida pelo usuário\n",
    "print(\"entrada do usuário:\", saque)\n",
    "\n",
    "# Calcula a quantidade de cédulas de R$100 necessárias\n",
    "cem = saque // 100\n",
    "\n",
    "# Atualiza o valor do saque para o restante após retirar as cédulas de R$100\n",
    "saque = saque % 100\n",
    "\n",
    "# Calcula a quantidade de cédulas de R$50 necessárias\n",
    "cinquenta = saque // 50\n",
    "\n",
    "# Atualiza o valor do saque para o restante após retirar as cédulas de R$50\n",
    "saque = saque % 50\n",
    "\n",
    "# Calcula a quantidade de cédulas de R$20 necessárias\n",
    "vinte = saque // 20\n",
    "\n",
    "# Atualiza o valor do saque para o restante após retirar as cédulas de R$20\n",
    "saque = saque % 20\n",
    "\n",
    "# Calcula a quantidade de cédulas de R$10 necessárias\n",
    "dez = saque // 10\n",
    "\n",
    "# Imprime a quantidade de cédulas de cada denominação necessárias para totalizar o valor do saque\n",
    "print(f\"Cédulas de R$100: {cem}, Cédulas de R$50: {cinquenta}, Cédulas de R$20: {vinte}, Cédulas de R$10: {dez}\")"
   ]
  },
  {
   "cell_type": "code",
   "execution_count": null,
   "metadata": {},
   "outputs": [
    {
     "name": "stdout",
     "output_type": "stream",
     "text": [
      "Maior\n",
      "Maior\n",
      "Maior\n",
      "Maior\n",
      "Maior\n",
      "Maior\n",
      "Maior\n",
      "Fim do jogo\n",
      "O número era:  95\n"
     ]
    }
   ],
   "source": [
    "\"\"\"9. Implemente um jogo de adivinhação onde o programa escolhe um número aleatório\n",
    "entre 1 e 100, e o usuário tenta adivinhar o número. O programa deve fornecer dicas\n",
    "como ’Maior’ ou ’Menor’ após cada tentativa, limitar o número de tentativas a 7 e exibir\n",
    "uma mensagem de sucesso ou falha ao final do jogo.\"\"\"\n",
    "\n",
    "#importar modo random\n",
    "import random\n",
    "\n",
    "# Gera um número aleatório entre 1 e 100\n",
    "numero = random.randint(1, 101)\n",
    "\n",
    "# Loop para permitir até 7 tentativas de adivinhar o número\n",
    "for i in range(7):\n",
    "    # Solicita ao usuário que tente adivinhar o número\n",
    "    tentativa = int(input(\"Tente adivinhar o número (1 a 100): \"))\n",
    "    \n",
    "    # Verifica se a tentativa é igual ao número gerado\n",
    "    if tentativa == numero:\n",
    "        print(\"Parabéns! Você acertou.\")\n",
    "        break\n",
    "    # Verifica se a tentativa é menor que o número gerado\n",
    "    elif tentativa < numero:\n",
    "        print(\"Maior\")\n",
    "    # Caso a tentativa seja maior que o número gerado\n",
    "    else:\n",
    "        print(\"Menor\")\n",
    "\n",
    "# Exibe uma mensagem de fim de jogo e revela o número gerado\n",
    "print(\"Fim do jogo\\nO número era: \", numero)"
   ]
  },
  {
   "cell_type": "code",
   "execution_count": null,
   "metadata": {},
   "outputs": [
    {
     "name": "stdout",
     "output_type": "stream",
     "text": [
      "entrada do usuário: Olá bom dia\n",
      "Frequência de palavras:\n",
      "olá: 1\n",
      "bom: 1\n",
      "dia: 1\n"
     ]
    }
   ],
   "source": [
    "\"\"\"10. Crie um programa que receba um texto e conte a frequência de cada palavra, ignorando\n",
    "maiúsculas e minúsculas. O programa deve exibir uma lista de palavras únicas e o\n",
    "número de vezes que cada uma aparece no texto. Utilize estruturas de dicionário e loops\n",
    "para realizar o processamento.\"\"\"\n",
    "\n",
    "# Solicita ao usuário que digite um texto e armazena a entrada na variável 'frase'\n",
    "frase = input(\"Digite um texto: \")\n",
    "\n",
    "# Imprime a entrada fornecida pelo usuário\n",
    "print(\"entrada do usuário:\", frase)\n",
    "\n",
    "# Converte o texto para letras minúsculas e divide em palavras, armazenando na lista 'palavras'\n",
    "palavras = frase.lower().split()\n",
    "\n",
    "# Inicializa um dicionário vazio para armazenar a frequência das palavras\n",
    "frequencia = {}\n",
    "\n",
    "# Itera sobre cada palavra na lista 'palavras'\n",
    "for palavra in palavras:\n",
    "    # Se a palavra já estiver no dicionário 'frequencia', incrementa seu valor em 1\n",
    "    if palavra in frequencia:\n",
    "        frequencia[palavra] += 1\n",
    "    # Caso contrário, adiciona a palavra ao dicionário com valor 1\n",
    "    else:\n",
    "        frequencia[palavra] = 1\n",
    "\n",
    "# Imprime o cabeçalho para a frequência de palavras\n",
    "print(\"Frequência de palavras:\")\n",
    "\n",
    "# Itera sobre os itens do dicionário 'frequencia' e imprime cada palavra e sua frequência\n",
    "for palavra, freq in frequencia.items():\n",
    "    print(f\"{palavra}: {freq}\")"
   ]
  },
  {
   "cell_type": "markdown",
   "metadata": {},
   "source": [
    "**4.6 VAMOS PRATICAR**\n",
    "1. Crie uma função chamada quadrado() que receba um número como parâmetro e\n",
    "retorne o quadrado desse número. Em seguida, escreva um programa que utilize essa\n",
    "função para calcular e exibir o quadrado de um número fornecido pelo usuário.\n",
    "2. Implemente uma função chamada maior_numero() que receba três números como\n",
    "parâmetros e retorne o maior deles. Teste a função com diferentes entradas e exiba o\n",
    "maior número.\n",
    "3. Desenvolva uma função chamada contar_vogais() que receba uma string como\n",
    "parâmetro e retorne o número de vogais presentes nessa string. Utilize essa função\n",
    "para contar o número de vogais em uma frase fornecida pelo usuário.\n",
    "4. Escreva uma função chamada calcular_potencia() que receba dois parâmetros,\n",
    "base e expoente, e retorne o resultado da base elevada ao expoente. Utilize a função\n",
    "para calcular a potência de números fornecidos pelo usuário.\n",
    "5. Crie uma função chamada converter_segundos() que receba um valor em segundos\n",
    "e o converta para o formato horas, minutos e segundos. A função deve retornar uma\n",
    "string formatada como \"X horas, Y minutos e Z segundos\". Teste a função com diferentes\n",
    "entradas.\n",
    "6. Implemente uma função chamada calcular_hipotenusa() que receba os comprimen-\n",
    "tos dos dois catetos de um triângulo retângulo e retorne o comprimento da hipotenusa,\n",
    "usando o teorema de Pitágoras. Utilize a função para calcular a hipotenusa com valores\n",
    "fornecidos pelo usuário.\n",
    "7. Desenvolva uma função chamada eh_primo() que receba um número inteiro e retorne\n",
    "True se o número for primo e False caso contrário. Utilize a função para verificar se um\n",
    "número fornecido pelo usuário é primo.\n",
    "8. Escreva uma função chamada inverter_lista() que receba uma lista de números\n",
    "como parâmetro e retorne uma nova lista com os elementos na ordem inversa. Teste a\n",
    "função com diferentes listas fornecidas pelo usuário.\n",
    "9. Crie uma função chamada fibonacci_ate() que receba um número inteiro n e retorne\n",
    "uma lista contendo todos os números da sequência de Fibonacci até n. Utilize a função\n",
    "para gerar a sequência de Fibonacci até um valor fornecido pelo usuário.\n",
    "10. Implemente uma função chamada gerar_senha() que receba um comprimento n e\n",
    "retorne uma senha aleatória contendo letras maiúsculas, minúsculas, dígitos e caracteres\n",
    "especiais. Utilize a função para gerar senhas de diferentes comprimentos fornecidos\n",
    "pelo usuário."
   ]
  },
  {
   "cell_type": "code",
   "execution_count": null,
   "metadata": {},
   "outputs": [
    {
     "name": "stdout",
     "output_type": "stream",
     "text": [
      "O quadrado do número inserido é: 64\n"
     ]
    }
   ],
   "source": [
    "\"\"\"1. Crie uma função chamada quadrado() que receba um número como parâmetro e\n",
    "retorne o quadrado desse número. Em seguida, escreva um programa que utilize essa\n",
    "função para calcular e exibir o quadrado de um número fornecido pelo usuário.\"\"\"\n",
    "\n",
    "# Define a função chamada quadrado que recebe um número como parâmetro\n",
    "def quadrado(numero):\n",
    "    # Solicita ao usuário que digite um número e converte a entrada para um inteiro\n",
    "    numero = int(input(\"Digite um número: \"))\n",
    "    # Retorna o quadrado do número fornecido pelo usuário\n",
    "    return numero ** 2\n",
    "\n",
    "# Chama a função quadrado e imprime o resultado\n",
    "print(f\"O quadrado do número inserido é: {quadrado(numero)}\")"
   ]
  },
  {
   "cell_type": "code",
   "execution_count": null,
   "metadata": {},
   "outputs": [
    {
     "data": {
      "text/plain": [
       "3"
      ]
     },
     "execution_count": 58,
     "metadata": {},
     "output_type": "execute_result"
    }
   ],
   "source": [
    "\"\"\"\n",
    "2. Implemente uma função chamada maior_numero() que receba três números como\n",
    "parâmetros e retorne o maior deles. Teste a função com diferentes entradas e exiba o\n",
    "maior número.\"\"\"\n",
    "\n",
    "# Define a função chamada maior_numero que recebe três números como parâmetros\n",
    "def maior_numero():\n",
    "    # Solicita ao usuário que digite o primeiro número e converte a entrada para um inteiro\n",
    "    a = int(input(\"Digite o primeiro número: \"))\n",
    "    # Solicita ao usuário que digite o segundo número e converte a entrada para um inteiro\n",
    "    b = int(input(\"Digite o segundo número: \"))\n",
    "    # Solicita ao usuário que digite o terceiro número e converte a entrada para um inteiro\n",
    "    c = int(input(\"Digite o terceiro número: \"))\n",
    "    # Verifica se o primeiro número é maior que os outros dois\n",
    "    if a > b and a > c:\n",
    "        return a\n",
    "    # Verifica se o segundo número é maior que os outros dois\n",
    "    elif b > a and b > c:\n",
    "        return b\n",
    "    # Caso contrário, o terceiro número é o maior\n",
    "    else:\n",
    "        return c\n",
    "# Chama a função maior_numero e exibe o maior número\n",
    "maior_numero()"
   ]
  },
  {
   "cell_type": "code",
   "execution_count": null,
   "metadata": {},
   "outputs": [
    {
     "name": "stdout",
     "output_type": "stream",
     "text": [
      "entrada do usuário: ola bom dia \n",
      "O número de vogais na frase é: 5\n"
     ]
    }
   ],
   "source": [
    "\"\"\"\n",
    "3. Desenvolva uma função chamada contar_vogais() que receba uma string como\n",
    "parâmetro e retorne o número de vogais presentes nessa string. Utilize essa função\n",
    "para contar o número de vogais em uma frase fornecida pelo usuário.\"\"\"\n",
    "\n",
    "# Define a função contar_vogais que recebe uma string como parâmetro e retorna o número de vogais presentes na string \n",
    "def contar_vogais(frase):\n",
    "    # Define uma string contendo todas as vogais\n",
    "    vogais = 'aeiou'\n",
    "    # Retorna a soma de 1 para cada letra na frase que é uma vogal (ignorando maiúsculas e minúsculas)\n",
    "    return sum(1 for letra in frase if letra.lower() in vogais)\n",
    "\n",
    "# Solicita ao usuário que digite uma frase e armazena a entrada na variável 'frase'\n",
    "frase = input(\"Digite uma frase: \")\n",
    "\n",
    "# Imprime a entrada fornecida pelo usuário\n",
    "print(\"entrada do usuário:\", frase)\n",
    "\n",
    "# Chama a função contar_vogais com a frase fornecida pelo usuário e imprime o número de vogais na frase\n",
    "print(f\"O número de vogais na frase é: {contar_vogais(frase)}\")"
   ]
  },
  {
   "cell_type": "code",
   "execution_count": null,
   "metadata": {},
   "outputs": [
    {
     "name": "stdout",
     "output_type": "stream",
     "text": [
      "O valor do calculo da potencia é: 16\n"
     ]
    }
   ],
   "source": [
    "\"\"\"\n",
    "4. Escreva uma função chamada calcular_potencia() que receba dois parâmetros,\n",
    "base e expoente, e retorne o resultado da base elevada ao expoente. Utilize a função\n",
    "para calcular a potência de números fornecidos pelo usuário.\"\"\"\n",
    "\n",
    "# Define a função calcular_potencia que recebe dois parâmetros, base e expoente, e retorna o resultado da base elevada ao expoente\n",
    "def calcular_potencia():\n",
    "    # Solicita ao usuário que digite a base e converte a entrada para um inteiro\n",
    "    base = int(input(\"Digite a base: \"))\n",
    "    # Solicita ao usuário que digite o expoente e converte a entrada para um inteiro\n",
    "    expoente = int(input(\"Digite o expoente: \"))\n",
    "    # Retorna o resultado da base elevada ao expoente\n",
    "    return base ** expoente\n",
    "\n",
    "# Chama a função calcular_potencia e imprime o resultado\n",
    "print(f'O valor do calculo da potência é: {calcular_potencia()}')"
   ]
  },
  {
   "cell_type": "code",
   "execution_count": null,
   "metadata": {},
   "outputs": [
    {
     "data": {
      "text/plain": [
       "'0 horas, 1 minutos e 1 segundos'"
      ]
     },
     "execution_count": 69,
     "metadata": {},
     "output_type": "execute_result"
    }
   ],
   "source": [
    "\"\"\"\n",
    "5. Crie uma função chamada converter_segundos() que receba um valor em segundos\n",
    "e o converta para o formato horas, minutos e segundos. A função deve retornar uma\n",
    "string formatada como \"X horas, Y minutos e Z segundos\". Teste a função com diferentes\n",
    "entradas.\"\"\"\n",
    "\n",
    "# Define a função converter_segundos que recebe um valor em segundos e o converte para o formato horas, minutos e segundos\n",
    "def converter_segundos(segundos):\n",
    "    # Calcula o número de horas inteiras no valor de segundos\n",
    "    horas = segundos // 3600\n",
    "    # Calcula o número de minutos inteiros restantes após subtrair as horas\n",
    "    minutos = (segundos % 3600) // 60\n",
    "    # Calcula o número de segundos restantes após subtrair as horas e os minutos\n",
    "    segundos = (segundos % 3600) % 60\n",
    "    # Retorna uma string formatada com o valor em horas, minutos e segundos\n",
    "    return f\"{horas} horas, {minutos} minutos e {segundos} segundos\"\n",
    "\n",
    "# Testa a função com o valor de 61 segundos\n",
    "converter_segundos(61)"
   ]
  },
  {
   "cell_type": "code",
   "execution_count": null,
   "metadata": {},
   "outputs": [
    {
     "data": {
      "text/plain": [
       "5.0"
      ]
     },
     "execution_count": 75,
     "metadata": {},
     "output_type": "execute_result"
    }
   ],
   "source": [
    "\"\"\"\n",
    "6. Implemente uma função chamada calcular_hipotenusa() que receba os comprimen-\n",
    "tos dos dois catetos de um triângulo retângulo e retorne o comprimento da hipotenusa,\n",
    "usando o teorema de Pitágoras. Utilize a função para calcular a hipotenusa com valores\n",
    "fornecidos pelo usuário.\"\"\"\n",
    "\n",
    "# Define a função calcular_hipotenusa que recebe os comprimentos dos dois catetos de um triângulo retângulo e retorna o comprimento da hipotenusa\n",
    "def calcular_hipotenusa():\n",
    "    # Solicita ao usuário que digite o comprimento do primeiro cateto e converte a entrada para um número de ponto flutuante\n",
    "    cateto1 = float(input(\"Digite o comprimento do primeiro cateto: \"))\n",
    "    # Solicita ao usuário que digite o comprimento do segundo cateto e converte a entrada para um número de ponto flutuante\n",
    "    cateto2 = float(input(\"Digite o comprimento do segundo cateto: \"))\n",
    "    # Retorna o comprimento da hipotenusa usando o teorema de Pitágoras\n",
    "    return (cateto1 ** 2 + cateto2 ** 2) ** 0.5\n",
    "# Chama a função calcular_hipotenusa e imprime o resultado\n",
    "calcular_hipotenusa()"
   ]
  },
  {
   "cell_type": "code",
   "execution_count": null,
   "metadata": {},
   "outputs": [
    {
     "name": "stdout",
     "output_type": "stream",
     "text": [
      "False\n",
      "True\n"
     ]
    }
   ],
   "source": [
    "\"\"\"\n",
    "7. Desenvolva uma função chamada eh_primo() que receba um número inteiro e retorne\n",
    "True se o número for primo e False caso contrário. Utilize a função para verificar se um\n",
    "número fornecido pelo usuário é primo.\"\"\"\n",
    "\n",
    "# Define a função eh_primo que recebe um número inteiro e retorna True se o número for primo e False caso contrário\n",
    "def eh_primo(numero):\n",
    "    # Verifica se o número é menor que 2\n",
    "    if numero < 2:\n",
    "        # Se o número for menor que 2, não é primo\n",
    "        return False\n",
    "    # Itera sobre os números de 2 até a raiz quadrada do número\n",
    "    for i in range(2, int(numero ** 0.5) + 1):\n",
    "        # Verifica se o número é divisível por i\n",
    "        if numero % i == 0:\n",
    "            # Se o número for divisível por i, não é primo\n",
    "            return False\n",
    "    # Se o número não for divisível por nenhum número entre 2 e sua raiz quadrada, é primo\n",
    "    return True\n",
    "# Testa a função com o número 4 e 7\n",
    "print(eh_primo(4))\n",
    "print(eh_primo(7))"
   ]
  },
  {
   "cell_type": "code",
   "execution_count": null,
   "metadata": {},
   "outputs": [
    {
     "name": "stdout",
     "output_type": "stream",
     "text": [
      "insira uma lista de números inteiros: 1,2,3,4,5\n",
      "Lista invertida: [5, 4, 3, 2, 1]\n"
     ]
    }
   ],
   "source": [
    "\"\"\"\n",
    "8. Escreva uma função chamada inverter_lista() que receba uma lista de números\n",
    "como parâmetro e retorne uma nova lista com os elementos na ordem inversa. Teste a\n",
    "função com diferentes listas fornecidas pelo usuário.\"\"\"\n",
    "\n",
    "# Define a função inverter_lista que recebe uma lista de números como parâmetro e retorna uma nova lista com os elementos na ordem inversa\n",
    "def inverter_lista(lista):\n",
    "    # Retorna a lista invertida usando slicing\n",
    "    return lista[::-1]\n",
    "# Testa a função com uma lista fornecida pelo usuário e imprime a lista invertida \n",
    "lista = input(\"Digite uma lista de números separados por vírgulas: \")\n",
    "# Converte a string de entrada em uma lista de números inteiros\n",
    "print(\"insira uma lista de números inteiros:\", lista)\n",
    "# Converte a string de entrada em uma lista de números inteiros\n",
    "lista = lista.split(',')\n",
    "# Converte a string de entrada em uma lista de números inteiros\n",
    "lista = [int(numero) for numero in lista]\n",
    "# Imprime a lista fornecida pelo usuário\n",
    "print(f\"Lista invertida: {inverter_lista(lista)}\")\n"
   ]
  },
  {
   "cell_type": "code",
   "execution_count": null,
   "metadata": {},
   "outputs": [
    {
     "name": "stdout",
     "output_type": "stream",
     "text": [
      "entrada do usuário: 120\n",
      "Sequência de Fibonacci até 120: [0, 1, 1, 2, 3, 5, 8, 13, 21, 34, 55, 89]\n"
     ]
    }
   ],
   "source": [
    "\"\"\"\n",
    "9. Crie uma função chamada fibonacci_ate() que receba um número inteiro n e retorne\n",
    "uma lista contendo todos os números da sequência de Fibonacci até n. Utilize a função\n",
    "para gerar a sequência de Fibonacci até um valor fornecido pelo usuário.\"\"\"\n",
    "\n",
    "def fibonacci_ate(n):\n",
    "    # Inicializa a lista de Fibonacci com os dois primeiros números da sequência\n",
    "    fibonacci = [0, 1]\n",
    "    \n",
    "    # Continua adicionando números à sequência enquanto a soma dos dois últimos números for menor ou igual a n\n",
    "    while fibonacci[-1] + fibonacci[-2] <= n:\n",
    "        fibonacci.append(fibonacci[-1] + fibonacci[-2])\n",
    "    \n",
    "    # Retorna a lista de números da sequência de Fibonacci até n\n",
    "    return fibonacci\n",
    "\n",
    "# Solicita ao usuário que digite um número inteiro e armazena a entrada na variável 'n'\n",
    "n = int(input(\"Digite um número inteiro: \"))\n",
    "\n",
    "# Imprime a entrada fornecida pelo usuário\n",
    "print(\"entrada do usuário:\", n)\n",
    "\n",
    "# Chama a função fibonacci_ate com o valor fornecido pelo usuário e imprime a sequência de Fibonacci até n\n",
    "print(f\"Sequência de Fibonacci até {n}: {fibonacci_ate(n)}\")\n"
   ]
  },
  {
   "cell_type": "code",
   "execution_count": null,
   "metadata": {},
   "outputs": [
    {
     "name": "stdout",
     "output_type": "stream",
     "text": [
      "entrada do usuário: 10\n",
      "Senha gerada: 2-]LH\"g,J`\n"
     ]
    }
   ],
   "source": [
    "\"\"\"\n",
    "10. Implemente uma função chamada gerar_senha() que receba um comprimento n e\n",
    "retorne uma senha aleatória contendo letras maiúsculas, minúsculas, dígitos e caracteres\n",
    "especiais. Utilize a função para gerar senhas de diferentes comprimentos fornecidos\n",
    "pelo usuário.\"\"\"\n",
    "\n",
    "# Define a função gerar_senha que recebe um comprimento n e retorna uma senha aleatória\n",
    "def gerar_senha(n):\n",
    "    # Importa os módulos random e string\n",
    "    import random\n",
    "    import string\n",
    "    \n",
    "    # Define os caracteres que podem ser usados na senha: letras maiúsculas, minúsculas, dígitos e caracteres especiais\n",
    "    caracteres = string.ascii_letters + string.digits + string.punctuation\n",
    "    \n",
    "    # Gera uma senha aleatória de comprimento n usando os caracteres definidos\n",
    "    return ''.join(random.choices(caracteres, k=n))\n",
    "\n",
    "# Solicita ao usuário que digite o comprimento da senha e armazena a entrada na variável 'n'\n",
    "n = int(input(\"Digite o comprimento da senha: \"))\n",
    "print(\"entrada do usuário:\", n)\n",
    "\n",
    "# Gera uma senha de comprimento n e imprime a senha gerada\n",
    "print(f\"Senha gerada: {gerar_senha(n)}\")\n",
    "\n"
   ]
  },
  {
   "cell_type": "markdown",
   "metadata": {},
   "source": [
    "**5.8 VAMOS EXERCITAR**\n",
    "1. Manipulação de Vetores: Crie um vetor em Python com 10 números aleatórios entre\n",
    "1 e 100. Imprima o vetor, a soma de seus elementos e os elementos ordenados em\n",
    "ordem crescente.\n",
    "2. Operações com Matrizes: Crie uma matriz 3x3 em Python com números inteiros de\n",
    "1 a 9. Escreva um código para calcular a soma de todos os elementos da matriz e a\n",
    "matriz transposta.\n",
    "3. Filtragem usando Listas Compreendidas: Dada uma lista de números de 1 a 20, crie\n",
    "uma nova lista que contenha apenas os números pares usando list comprehension. Em\n",
    "seguida, filtre também os números que são múltiplos de 3.\n",
    "4. Manipulação de Dicionários: Crie um dicionário que armazene o nome de 5 produtos\n",
    "como chave e seu preço como valor. Escreva um código para aumentar o preço de\n",
    "todos os produtos em 10% e imprima o dicionário atualizado.\n",
    "5. Uso de Tuplas: Crie uma tupla que contenha os dias da semana. Escreva um código\n",
    "que percorra a tupla e imprima cada dia, garantindo que a tupla permaneça inalterada.\n",
    "6. Trabalhando com Conjuntos: Crie dois conjuntos de números inteiros: um contendo\n",
    "múltiplos de 2 até 20 e outro contendo múltiplos de 3 até 30. Escreva um código que\n",
    "imprima a união, a interseção e a diferença entre os dois conjuntos.\n",
    "7. Construção de Matrizes a partir de Dados: Dado um arquivo CSV contendo notas de\n",
    "alunos em diferentes disciplinas, leia os dados e armazene-os em uma matriz. Escreva\n",
    "um código para calcular a média das notas de cada aluno.\n",
    "8. Aplicando Dicionários em IA: Suponha que você está criando um chatbot simples. Use\n",
    "um dicionário para armazenar pares de perguntas e respostas. Escreva um código que,\n",
    "ao receber uma pergunta do usuário, retorna a resposta correspondente, ou informa que\n",
    "a pergunta não está cadastrada.\n",
    "9. Manipulação Avançada com Tuplas: Dada uma lista de tuplas, onde cada tupla contém\n",
    "o nome de uma cidade e sua temperatura atual, escreva um código que encontre a\n",
    "cidade com a temperatura mais alta e a mais baixa.\n",
    "10. Análise de Dados com Conjuntos: Dada uma lista de nomes de pessoas que parti-\n",
    "ciparam de dois eventos diferentes, use conjuntos para encontrar quem participou de\n",
    "ambos, apenas do primeiro, e apenas do segundo evento."
   ]
  },
  {
   "cell_type": "code",
   "execution_count": null,
   "metadata": {},
   "outputs": [
    {
     "name": "stdout",
     "output_type": "stream",
     "text": [
      "Vetor: [62, 76, 43, 33, 22, 75, 38, 90, 57, 15]\n",
      "Soma dos elementos: 511\n",
      "Elementos ordenados: [15, 22, 33, 38, 43, 57, 62, 75, 76, 90]\n"
     ]
    }
   ],
   "source": [
    "\"\"\"1. Manipulação de Vetores: Crie um vetor em Python com 10 números aleatórios entre\n",
    "1 e 100. Imprima o vetor, a soma de seus elementos e os elementos ordenados em\n",
    "ordem crescente.\n",
    "\"\"\"\n",
    "\n",
    "# Importa o módulo random para gerar números aleatórios\n",
    "import random\n",
    "\n",
    "# Cria um vetor com 10 números aleatórios entre 1 e 100\n",
    "vetor = [random.randint(1, 101) for _ in range(10)]\n",
    "print(\"Vetor:\", vetor)\n",
    "\n",
    "# Calcula a soma dos elementos do vetor\n",
    "soma = sum(vetor)\n",
    "print(\"Soma dos elementos:\", soma)\n",
    "\n",
    "# Ordena os elementos do vetor em ordem crescente\n",
    "vetor_ordenado = sorted(vetor)\n",
    "print(\"Elementos ordenados:\", vetor_ordenado)"
   ]
  },
  {
   "cell_type": "code",
   "execution_count": null,
   "metadata": {},
   "outputs": [
    {
     "name": "stdout",
     "output_type": "stream",
     "text": [
      "Soma dos elementos da matriz: 45\n",
      "Matriz transposta: [[1, 4, 7], [2, 5, 8], [3, 6, 9]]\n"
     ]
    }
   ],
   "source": [
    "\"\"\"2. Operações com Matrizes: Crie uma matriz 3x3 em Python com números inteiros de\n",
    "1 a 9. Escreva um código para calcular a soma de todos os elementos da matriz e a\n",
    "matriz transposta.\n",
    "\"\"\"\n",
    "# Criar matriz 3x3 com números inteiros de 1 a 9\n",
    "matriz = [[1, 2, 3], [4, 5, 6], [7, 8, 9]]\n",
    "\n",
    "# Calcular a soma de todos os elementos da matriz\n",
    "# A função sum() é usada duas vezes: a primeira para somar os elementos de cada linha, e a segunda para somar os resultados das somas das linhas.\n",
    "soma = sum(sum(linha) for linha in matriz)\n",
    "print(\"Soma dos elementos da matriz:\", soma)\n",
    "\n",
    "# Matriz transposta\n",
    "# A transposição é feita trocando linhas por colunas.\n",
    "# A lista de compreensão percorre cada índice de coluna (i) e cria uma nova linha com os elementos correspondentes de cada linha original.\n",
    "transposta = [[linha[i] for linha in matriz] for i in range(3)]\n",
    "print(\"Matriz transposta:\", transposta)\n"
   ]
  },
  {
   "cell_type": "code",
   "execution_count": null,
   "metadata": {},
   "outputs": [
    {
     "name": "stdout",
     "output_type": "stream",
     "text": [
      "Números pares: [2, 4, 6, 8, 10, 12, 14, 16, 18, 20]\n",
      "Números múltiplos de 3: [3, 6, 9, 12, 15, 18]\n"
     ]
    }
   ],
   "source": [
    "\"\"\"3. Filtragem usando Listas Compreendidas: Dada uma lista de números de 1 a 20, crie\n",
    "uma nova lista que contenha apenas os números pares usando list comprehension. Em\n",
    "seguida, filtre também os números que são múltiplos de 3.\n",
    "\"\"\"\n",
    "\n",
    "# Cria uma lista de números de 1 a 20\n",
    "lista = list(range(1, 21))\n",
    "#números pares\n",
    "pares = [numero for numero in lista if numero % 2 == 0]\n",
    "# Imprime os números pares\n",
    "print(\"Números pares:\", pares)\n",
    "#números múltiplos de 3\n",
    "multiplos_3 = [numero for numero in lista if numero % 3 == 0]\n",
    "# Imprime os números múltiplos de 3\n",
    "print(\"Números múltiplos de 3:\", multiplos_3)"
   ]
  },
  {
   "cell_type": "code",
   "execution_count": null,
   "metadata": {},
   "outputs": [
    {
     "name": "stdout",
     "output_type": "stream",
     "text": [
      "Dicionário atualizado: {'produto1': 11.0, 'produto2': 22.0, 'produto3': 33.0, 'produto4': 44.0, 'produto5': 55.00000000000001}\n"
     ]
    }
   ],
   "source": [
    "\"\"\"4. Manipulação de Dicionários: Crie um dicionário que armazene o nome de 5 produtos\n",
    "como chave e seu preço como valor. Escreva um código para aumentar o preço de\n",
    "todos os produtos em 10% e imprima o dicionário atualizado.\n",
    "\"\"\"\n",
    "\n",
    "# Dicionário com o nome dos produtos e seus preços\n",
    "dict = {'produto1': 10, 'produto2': 20, 'produto3': 30, 'produto4': 40, 'produto5': 50}\n",
    "#aumentar o preço de todos os produtos em 10%\n",
    "dict_atualizado = {produto: preco * 1.1 for produto, preco in dict.items()}\n",
    "#\n",
    "print(\"Dicionário atualizado:\", dict_atualizado)"
   ]
  },
  {
   "cell_type": "code",
   "execution_count": null,
   "metadata": {},
   "outputs": [
    {
     "name": "stdout",
     "output_type": "stream",
     "text": [
      "segunda\n",
      "terça\n",
      "quarta\n",
      "quinta\n",
      "sexta\n",
      "sábado\n",
      "domingo\n"
     ]
    }
   ],
   "source": [
    "\"\"\"5. Uso de Tuplas: Crie uma tupla que contenha os dias da semana. Escreva um código\n",
    "que percorra a tupla e imprima cada dia, garantindo que a tupla permaneça inalterada.\n",
    "\"\"\"\n",
    "\n",
    "# Tupla com os dias da semana\n",
    "dias_da_semana = ('segunda', 'terça', 'quarta', 'quinta', 'sexta', 'sábado', 'domingo')\n",
    "# Itera sobre os dias da semana e imprime cada dia\n",
    "for dia in dias_da_semana:\n",
    "    print(dia)"
   ]
  },
  {
   "cell_type": "code",
   "execution_count": null,
   "metadata": {},
   "outputs": [
    {
     "name": "stdout",
     "output_type": "stream",
     "text": [
      "União dos conjuntos: {2, 3, 4, 6, 8, 9, 10, 12, 14, 15, 16, 18, 20, 21, 24, 27, 30}\n",
      "Interseção dos conjuntos: {18, 12, 6}\n",
      "Diferença entre os conjuntos: {2, 4, 8, 10, 14, 16, 20}\n"
     ]
    }
   ],
   "source": [
    "\"\"\"6. Trabalhando com Conjuntos: Crie dois conjuntos de números inteiros: um contendo\n",
    "múltiplos de 2 até 20 e outro contendo múltiplos de 3 até 30. Escreva um código que\n",
    "imprima a união, a interseção e a diferença entre os dois conjuntos.\"\"\"\n",
    "\n",
    "# Cria dois conjuntos de números inteiros\n",
    "conjunto1 = set(range(2, 21, 2))\n",
    "conjunto2 = set(range(3, 31, 3))\n",
    "#união dos conjuntos \n",
    "uniao = conjunto1.union(conjunto2) \n",
    "#imprime a união dos conjuntos\n",
    "print(\"União dos conjuntos:\", uniao)\n",
    "#interseção dos conjuntos\n",
    "intersecao = conjunto1.intersection(conjunto2)\n",
    "#imprime a interseção dos conjuntos\n",
    "print(\"Interseção dos conjuntos:\", intersecao)\n",
    "#diferença entre os conjuntos\n",
    "difereca = conjunto1.difference(conjunto2)\n",
    "#imprime a diferença entre os conjuntos\n",
    "print(\"Diferença entre os conjuntos:\", difereca)"
   ]
  },
  {
   "cell_type": "code",
   "execution_count": null,
   "metadata": {},
   "outputs": [
    {
     "data": {
      "text/plain": [
       "[83.6, 87.6, 84.6, 86.0, 91.0]"
      ]
     },
     "execution_count": 104,
     "metadata": {},
     "output_type": "execute_result"
    }
   ],
   "source": [
    "\n",
    "\"\"\"7. Construção de Matrizes a partir de Dados: Dado um arquivo CSV contendo notas de\n",
    "alunos em diferentes disciplinas, leia os dados e armazene-os em uma matriz. Escreva\n",
    "um código para calcular a média das notas de cada aluno.\n",
    "\"\"\"\n",
    "\n",
    "# Importa a biblioteca pandas para trabalhar com arquivos CSV\n",
    "import pandas as pd\n",
    "\n",
    "# Criando dados para o CSV\n",
    "dados_alunos = {\n",
    "    'Aluno': ['Ana', 'Bruno', 'Carla', 'Diego', 'Elisa'],\n",
    "    'Matemática': [85, 92, 78, 88, 95],\n",
    "    'História': [75, 82, 79, 85, 90],\n",
    "    'Química': [90, 88, 85, 87, 92],\n",
    "    'Física': [80, 86, 89, 84, 91],\n",
    "    'Biologia': [88, 90, 92, 86, 87]\n",
    "}\n",
    "\n",
    "# Criando um DataFrame e salvando-o como arquivo CSV\n",
    "df = pd.DataFrame(dados_alunos)\n",
    "#salvando o arquivo CSV\n",
    "csv_path = 'notas_alunos.csv'\n",
    "#salvando o arquivo CSV\n",
    "df.to_csv(csv_path, index=False)\n",
    "\n",
    "# Lendo o arquivo CSV e armazenando os dados em uma matriz\n",
    "dados_lidos = pd.read_csv(csv_path).values\n",
    "#imprime os dados lidos\n",
    "dados_lidos\n",
    "\n",
    "# Calculando a média das notas de cada aluno\n",
    "medias = [sum(notas[1:]) / 5 for notas in dados_lidos]\n",
    "#imprime as médias\n",
    "medias"
   ]
  },
  {
   "cell_type": "code",
   "execution_count": null,
   "metadata": {},
   "outputs": [
    {
     "name": "stdout",
     "output_type": "stream",
     "text": [
      "entrada do usuário: Qual é o seu nome?\n",
      "Meu nome é Chatbot.\n"
     ]
    }
   ],
   "source": [
    "\"\"\"8. Aplicando Dicionários em IA: Suponha que você está criando um chatbot simples. Use\n",
    "um dicionário para armazenar pares de perguntas e respostas. Escreva um código que,\n",
    "ao receber uma pergunta do usuário, retorna a resposta correspondente, ou informa que\n",
    "a pergunta não está cadastrada.\n",
    "\"\"\"\n",
    "\n",
    "# Dicionário com pares de perguntas e respostas\n",
    "dict_chatbot = {\n",
    "    'Qual é o seu nome?': 'Meu nome é Chatbot.',\n",
    "    'Qual é a sua cor favorita?': 'Eu sou um programa, não tenho cor favorita.',\n",
    "    'Qual é a capital do Brasil?': 'Brasília.',\n",
    "    'Qual é a capital da França?': 'Paris.',\n",
    "    'Qanto é 2 + 2?': 'A resposta é 4.'\n",
    "}\n",
    "#solicita ao usuário que digite uma pergunta\n",
    "pergunta = input(\"Digite uma pergunta: \")\n",
    "#imprime a entrada do usuário\n",
    "print(\"entrada do usuário:\", pergunta)\n",
    "\n",
    "#verifica se a pergunta está no dicionário\n",
    "if pergunta in dict_chatbot:\n",
    "    #imprime a resposta correspondente à pergunta\n",
    "    print(dict_chatbot[pergunta])\n",
    "#caso contrário, informa que a pergunta não está cadastrada\n",
    "else:\n",
    "    print(\"Pergunta não cadastrada.\")"
   ]
  },
  {
   "cell_type": "code",
   "execution_count": null,
   "metadata": {},
   "outputs": [
    {
     "name": "stdout",
     "output_type": "stream",
     "text": [
      "Cidade com a temperatura mais alta: ('Rio de Janeiro', 35)\n",
      "Cidade com a temperatura mais baixa: ('Curitiba', 25)\n"
     ]
    }
   ],
   "source": [
    "\n",
    "\"\"\"9. Manipulação Avançada com Tuplas: Dada uma lista de tuplas, onde cada tupla contém\n",
    "o nome de uma cidade e sua temperatura atual, escreva um código que encontre a\n",
    "cidade com a temperatura mais alta e a mais baixa.\n",
    "\"\"\"\n",
    "\n",
    "#lista de tuplas com o nome de uma cidade e sua temperatura atual\n",
    "dados_cidades = [('São Paulo', 30), ('Rio de Janeiro', 35), ('Curitiba', 25), ('Salvador', 32)]\n",
    "#cidade com a temperatura mais alta\n",
    "cidade_mais_alta = max(dados_cidades, key=lambda x: x[1])\n",
    "#imprime a cidade com a temperatura mais alta\n",
    "print(\"Cidade com a temperatura mais alta:\", cidade_mais_alta)\n",
    "#cidade com a temperatura mais baixa\n",
    "cidade_mais_baixa = min(dados_cidades, key=lambda x: x[1])\n",
    "#imprime a cidade com a temperatura mais baixa\n",
    "print(\"Cidade com a temperatura mais baixa:\", cidade_mais_baixa)"
   ]
  },
  {
   "cell_type": "code",
   "execution_count": null,
   "metadata": {},
   "outputs": [
    {
     "name": "stdout",
     "output_type": "stream",
     "text": [
      "Participantes que estiveram em ambos os eventos: {'Elisa', 'Carla', 'Diego', 'Bruno'}\n",
      "Participantes que estiveram apenas no primeiro evento: {'Fábio', 'Ana'}\n",
      "Participantes que estiveram apenas no segundo evento: {'Henrique', 'Gabriel'}\n"
     ]
    }
   ],
   "source": [
    "\"\"\"10. Análise de Dados com Conjuntos: Dada uma lista de nomes de pessoas que parti-\n",
    "ciparam de dois eventos diferentes, use conjuntos para encontrar quem participou de\n",
    "ambos, apenas do primeiro, e apenas do segundo evento.\"\"\"\n",
    "\n",
    "# Listas com os nomes de participantes de dois eventos diferentes\n",
    "evento_1 = {\"Ana\", \"Bruno\", \"Carla\", \"Diego\", \"Elisa\", \"Fábio\"}\n",
    "evento_2 = {\"Carla\", \"Diego\", \"Elisa\", \"Gabriel\", \"Henrique\", \"Bruno\"}\n",
    "# Participantes que estiveram em ambos os eventos\n",
    "ambos = evento_1.intersection(evento_2)\n",
    "#imprime os participantes que estiveram em ambos os eventos\n",
    "print(\"Participantes que estiveram em ambos os eventos:\", ambos)\n",
    "# Participantes que estiveram apenas no primeiro evento\n",
    "apenas_evento_1 = evento_1.difference(evento_2)\n",
    "#imprime os participantes que estiveram apenas no primeiro evento\n",
    "print(\"Participantes que estiveram apenas no primeiro evento:\", apenas_evento_1)\n",
    "# Participantes que estiveram apenas no segundo evento\n",
    "apenas_evento_2 = evento_2.difference(evento_1)\n",
    "#imprime os participantes que estiveram apenas no segundo evento\n",
    "print(\"Participantes que estiveram apenas no segundo evento:\", apenas_evento_2)"
   ]
  },
  {
   "cell_type": "markdown",
   "metadata": {},
   "source": [
    "**6.10 CAI PRA DENTRO**\n",
    "1. Operações Básicas com NumPy:\n",
    "• Crie um vetor NumPy com 10 elementos inteiros de sua escolha. Em seguida,\n",
    "calcule a média, a variância e o desvio padrão dos elementos desse vetor.\n",
    "2. Manipulação de Matrizes em NumPy:\n",
    "• Crie duas matrizes 3x3 utilizando o NumPy. Realize a soma, subtração e multipli-\n",
    "cação de matrizes. Transponha uma delas e calcule o determinante.\n",
    "3. Análise de Dados com Pandas:\n",
    "• Importe um conjunto de dados CSV de sua escolha utilizando o Pandas. Realize a\n",
    "limpeza dos dados removendo valores nulos, crie uma nova coluna calculando a\n",
    "média de duas colunas existentes, e exiba as primeiras cinco linhas do DataFrame\n",
    "resultante.\n",
    "4. Agrupamento e Visualização com Pandas:\n",
    "• Utilize o mesmo conjunto de dados do exercício anterior e agrupe os dados por\n",
    "uma coluna categórica. Calcule a soma de outra coluna para cada grupo e crie um\n",
    "gráfico de barras utilizando o Matplotlib para visualizar o resultado.\n",
    "5. Manipulação de PDFs com PyPDF:\n",
    "• Crie um script que leia um arquivo PDF, extraia o texto de todas as suas páginas e\n",
    "salve o conteúdo extraído em um arquivo de texto separado.\n",
    "6. Mesclagem de Arquivos PDF:\n",
    "• Utilize o PyPDF para combinar três arquivos PDF em um único documento. Salve\n",
    "o resultado com um novo nome e abra-o para verificar se a mesclagem foi bem-\n",
    "sucedida.\n",
    "7. Rotação de Páginas em PDF:\n",
    "• Crie um script que carregue um arquivo PDF existente e rotacione todas as páginas\n",
    "90 graus no sentido horário. Salve o novo arquivo PDF com um nome diferente.\n",
    "8. Manipulação de Imagens com Pillow:\n",
    "• Carregue uma imagem de sua escolha utilizando o Pillow, redimensione-a para\n",
    "metade de suas dimensões originais e aplique um filtro de desfoque. Salve a nova\n",
    "imagem em um arquivo diferente.\n",
    "9. Conversão de Imagem para Escala de Cinza:\n",
    "• Utilize a biblioteca Pillow para carregar uma imagem, converter para escala de\n",
    "cinza e salvá-la com um novo nome. Compare a imagem original com a imagem\n",
    "convertida.\n",
    "10. Automação de Tarefas com PyAutoGUI:\n",
    "• Crie um script que utilize o PyAutoGUI para abrir o navegador de internet, acessar\n",
    "um site específico e capturar uma captura de tela da página inicial.\n",
    "11. Preenchimento Automático de Formulários:\n",
    "• Utilize o PyAutoGUI para simular o preenchimento automático de um formulário\n",
    "online. O script deve localizar os campos do formulário, digitar informações e clicar\n",
    "no botão de envio.\n",
    "12. Extração de Texto de Imagens com Pytesseract:\n",
    "• Crie um script que carregue uma imagem de texto manuscrito e utilize o Pytesseract\n",
    "para extrair o texto da imagem. Exiba o texto extraído no console.\n",
    "13. Detecção de Movimento com OpenCV:\n",
    "• Utilize a biblioteca OpenCV para criar um script que capture o vídeo da webcam\n",
    "e detecte movimentos na cena, desenhando um retângulo ao redor das áreas de\n",
    "movimento detectadas.\n",
    "14. Aplicação de Filtros de Vídeo com OpenCV:\n",
    "• Crie um script que capture um vídeo de um arquivo, aplique um filtro de detecção\n",
    "de bordas em tempo real e exiba o vídeo com o filtro aplicado.\n",
    "15. Criação de Bot para Tarefas Repetitivas:\n",
    "• Desenvolva um bot utilizando o PyAutoGUI que abra um aplicativo do computador\n",
    "(como uma calculadora), realize uma série de operações matemáticas (como\n",
    "somar, subtrair, multiplicar e dividir) e depois feche o aplicativo automaticamente.\n"
   ]
  },
  {
   "cell_type": "code",
   "execution_count": null,
   "metadata": {},
   "outputs": [
    {
     "name": "stdout",
     "output_type": "stream",
     "text": [
      "Média: 5.5\n",
      "Variância: 8.25\n",
      "Desvio padrão: 2.8722813232690143\n"
     ]
    }
   ],
   "source": [
    "\"\"\"\n",
    "1. Operações Básicas com NumPy:\n",
    "• Crie um vetor NumPy com 10 elementos inteiros de sua escolha. Em seguida,\n",
    "calcule a média, a variância e o desvio padrão dos elementos desse vetor.\n",
    "\"\"\"\n",
    "\n",
    "# Importa a biblioteca NumPy\n",
    "import numpy as np\n",
    "#vetor NumPy com 10 elementos inteiros\n",
    "vetor = np.array([1, 2, 3, 4, 5, 6, 7, 8, 9, 10])\n",
    "#média dos elementos do vetor\n",
    "media = np.mean(vetor)\n",
    "#imprime a média\n",
    "print(\"Média:\", media)\n",
    "#variância dos elementos do vetor\n",
    "variancia = np.var(vetor)\n",
    "#imprime a variância\n",
    "print(\"Variância:\", variancia)\n",
    "#desvio padrão dos elementos do vetor   \n",
    "desvio_padrao = np.std(vetor)\n",
    "#imprime o desvio padrão\n",
    "print(\"Desvio padrão:\", desvio_padrao)"
   ]
  },
  {
   "cell_type": "code",
   "execution_count": null,
   "metadata": {},
   "outputs": [
    {
     "name": "stdout",
     "output_type": "stream",
     "text": [
      "Soma de matrizes:\n",
      "[[10 10 10]\n",
      " [10 10 10]\n",
      " [10 10 10]]\n",
      "Subtração de matrizes:\n",
      "[[-8 -6 -4]\n",
      " [-2  0  2]\n",
      " [ 4  6  8]]\n",
      "Multiplicação de matrizes:\n",
      "[[ 30  24  18]\n",
      " [ 84  69  54]\n",
      " [138 114  90]]\n",
      "Determinante da matriz:\n",
      "0.0\n"
     ]
    }
   ],
   "source": [
    "\"\"\"2. Manipulação de Matrizes em NumPy:\n",
    "• Crie duas matrizes 3x3 utilizando o NumPy. Realize a soma, subtração e multiplicação de matrizes. Transponha uma delas e calcule o determinante.\n",
    "\"\"\"\n",
    "# Criar duas matrizes 3x3 com NumPy\n",
    "matriz1 = np.array([[1, 2, 3], [4, 5, 6], [7, 8, 9]])\n",
    "matriz2 = np.array([[9, 8, 7], [6, 5, 4], [3, 2, 1]])\n",
    "\n",
    "# Soma de matrizes\n",
    "soma = matriz1 + matriz2\n",
    "print(\"Soma de matrizes:\")\n",
    "print(soma)\n",
    "\n",
    "# Subtração de matrizes\n",
    "subtracao = matriz1 - matriz2\n",
    "print(\"Subtração de matrizes:\")\n",
    "print(subtracao)\n",
    "\n",
    "# Multiplicação de matrizes\n",
    "multiplicacao = matriz1 @ matriz2\n",
    "print(\"Multiplicação de matrizes:\")\n",
    "print(multiplicacao)\n",
    "\n",
    "# Transposta de uma matriz\n",
    "transposta = matriz1.T\n",
    "print(\"Transposta da matriz:\")\n",
    "print(transposta)\n",
    "\n",
    "# Determinante de uma matriz\n",
    "determinante = np.linalg.det(matriz1)\n",
    "print(\"Determinante da matriz:\")\n",
    "print(determinante)"
   ]
  },
  {
   "cell_type": "code",
   "execution_count": 122,
   "metadata": {},
   "outputs": [
    {
     "name": "stdout",
     "output_type": "stream",
     "text": [
      "         country country_code         region  gold  silver  bronze  total  \\\n",
      "0  United States          USA  North America    40      44      42    126   \n",
      "1          China          CHN           Asia    40      27      24     91   \n",
      "2          Japan          JPN           Asia    20      12      13     45   \n",
      "3      Australia          AUS        Oceania    18      19      16     53   \n",
      "4         France          FRA         Europe    16      26      22     64   \n",
      "\n",
      "        gdp  gdp_year  population  Média G/S  \n",
      "0  81695.19      2023       334.9       42.0  \n",
      "1  12614.06      2023      1410.7       33.5  \n",
      "2  33834.39      2023       124.5       16.0  \n",
      "3  64711.77      2023        26.6       18.5  \n",
      "4  44460.82      2023        68.2       21.0  \n"
     ]
    }
   ],
   "source": [
    "\"\"\"\n",
    "3. Análise de Dados com Pandas:\n",
    "• Importe um conjunto de dados CSV de sua escolha utilizando o Pandas. Realize a\n",
    "limpeza dos dados removendo valores nulos, crie uma nova coluna calculando a\n",
    "média de duas colunas existentes, e exiba as primeiras cinco linhas do DataFrame\n",
    "resultante.\"\"\"\n",
    "import pandas as pd\n",
    "\n",
    "# Importar conjunto de dados CSV\n",
    "df = pd.read_csv('olympics.csv')\n",
    "# Remover valores nulos\n",
    "df.dropna(inplace=True)\n",
    "# Criar nova coluna com a média de duas colunas existentes\n",
    "#inserir nova coluna no df\n",
    "df['Média G/S'] = (df['gold'] + df['silver']) / 2\n",
    "# Exibir as primeiras cinco linhas do DataFrame\n",
    "print(df.head())\n"
   ]
  },
  {
   "cell_type": "code",
   "execution_count": null,
   "metadata": {},
   "outputs": [
    {
     "data": {
      "image/png": "[encoded data removed]",
      "text/plain": [
       "<Figure size 8000x3500 with 1 Axes>"
      ]
     },
     "metadata": {},
     "output_type": "display_data"
    }
   ],
   "source": [
    "\"\"\"\n",
    "4. Agrupamento e Visualização com Pandas:\n",
    "• Utilize o mesmo conjunto de dados do exercício anterior e agrupe os dados por\n",
    "uma coluna categórica. Calcule a soma de outra coluna para cada grupo e crie um\n",
    "gráfico de barras utilizando o Matplotlib para visualizar o resultado.\"\"\"\n",
    "import matplotlib.pyplot as plt\n",
    "\n",
    "# Importar conjunto de dados CSV\n",
    "df = pd.read_csv('olympics.csv')\n",
    "\n",
    "# Agrupar os dados por uma coluna categórica e calcular a soma de outra coluna para cada grupo\n",
    "grupo = df.groupby('country')['gold'].sum()\n",
    "\n",
    "# Criar um gráfico de barras para visualizar o resultado\n",
    "plt.figure(figsize=(80, 35))  # Define o tamanho da figura do gráfico\n",
    "grupo.plot(kind='bar')  # Plota o gráfico de barras com os dados agrupados\n",
    "plt.xlabel('País')  # Define o rótulo do eixo x\n",
    "plt.ylabel('Ouro')  # Define o rótulo do eixo y\n",
    "plt.title('Medalhas de Ouro por País')  # Define o título do gráfico\n",
    "plt.show()  # Exibe o gráfico\n"
   ]
  },
  {
   "cell_type": "code",
   "execution_count": null,
   "metadata": {},
   "outputs": [],
   "source": [
    "\"\"\"\n",
    "5. Manipulação de PDFs com PyPDF:\n",
    "• Crie um script que leia um arquivo PDF, extraia o texto de todas as suas páginas e\n",
    "salve o conteúdo extraído em um arquivo de texto separado.\"\"\"\n",
    "# Importar a biblioteca PyPDF2\n",
    "import PyPDF2 as pdf\n",
    "\n",
    "# Abrir o arquivo PDF\n",
    "arquivo = open('Python para Inteligência Artificial.pdf', 'rb')\n",
    "\n",
    "# Extrair o texto de todas as páginas\n",
    "leitor = pdf.PdfReader(arquivo)\n",
    "texto = ''\n",
    "for pagina in range(len(leitor.pages)):\n",
    "    # Adiciona o texto extraído de cada página à variável 'texto'\n",
    "    texto += leitor.pages[pagina].extract_text()\n",
    "\n",
    "# Salvar o conteúdo extraído em um arquivo de texto separado\n",
    "with open('texto_extraido.txt', 'w') as arquivo_texto:\n",
    "    # Escreve o texto extraído no arquivo de texto\n",
    "    arquivo_texto.write(texto)\n",
    "\n",
    "# Fechar o arquivo PDF\n",
    "arquivo.close()"
   ]
  },
  {
   "cell_type": "code",
   "execution_count": null,
   "metadata": {},
   "outputs": [],
   "source": [
    "\"\"\"\n",
    "6. Mesclagem de Arquivos PDF:\n",
    "• Utilize o PyPDF para combinar três arquivos PDF em um único documento. Salve\n",
    "o resultado com um novo nome e abra-o para verificar se a mesclagem foi bem-\n",
    "sucedida.\"\"\"\n",
    "\n",
    "\n",
    "# Importar a biblioteca PyPDF2\n",
    "import PyPDF2 as pdf\n",
    "\n",
    "# Abrir os arquivos PDF\n",
    "arquivo1 = open('131.3_Visto-Estudos_PT (1).pdf', 'rb')  # Abre o primeiro arquivo PDF em modo de leitura binária\n",
    "arquivo2 = open('131.3_Visto-Estudos_PT-2.pdf', 'rb')    # Abre o segundo arquivo PDF em modo de leitura binária\n",
    "arquivo3 = open('131.3_Visto-Estudos_PT.pdf', 'rb')      # Abre o terceiro arquivo PDF em modo de leitura binária\n",
    "\n",
    "# Criar um objeto PDFWriter\n",
    "escritor = pdf.PdfWriter()  # Cria um objeto PDFWriter para escrever o novo PDF combinado\n",
    "\n",
    "# Adicionar os arquivos PDF ao objeto PDFWriter\n",
    "leitor1 = pdf.PdfReader(arquivo1)  # Cria um objeto PDFReader para ler o primeiro arquivo PDF\n",
    "leitor2 = pdf.PdfReader(arquivo2)  # Cria um objeto PDFReader para ler o segundo arquivo PDF\n",
    "leitor3 = pdf.PdfReader(arquivo3)  # Cria um objeto PDFReader para ler o terceiro arquivo PDF\n",
    "\n",
    "# Adiciona todas as páginas do primeiro PDF ao escritor\n",
    "for pagina in range(len(leitor1.pages)):\n",
    "    escritor.add_page(leitor1.pages[pagina])\n",
    "\n",
    "# Adiciona todas as páginas do segundo PDF ao escritor\n",
    "for pagina in range(len(leitor2.pages)):\n",
    "    escritor.add_page(leitor2.pages[pagina])\n",
    "\n",
    "# Adiciona todas as páginas do terceiro PDF ao escritor\n",
    "for pagina in range(len(leitor3.pages)):\n",
    "    escritor.add_page(leitor3.pages[pagina])\n",
    "\n",
    "# Salvar o documento combinado com um novo nome\n",
    "with open('documento_combinado.pdf', 'wb') as arquivo_combinado:  # Abre um novo arquivo PDF em modo de escrita binária\n",
    "    escritor.write(arquivo_combinado)  # Escreve todas as páginas adicionadas no novo arquivo PDF"
   ]
  },
  {
   "cell_type": "code",
   "execution_count": null,
   "metadata": {},
   "outputs": [],
   "source": [
    "\"\"\"\n",
    "7. Rotação de Páginas em PDF:\n",
    "• Crie um script que carregue um arquivo PDF existente e rotacione todas as páginas\n",
    "90 graus no sentido horário. Salve o novo arquivo PDF com um nome diferente.\"\"\"\n",
    "# Importar a biblioteca PyPDF2\n",
    "import PyPDF2 as pdf\n",
    "\n",
    "# Abrir o arquivo PDF\n",
    "arquivo = open('131.3_Visto-Estudos_PT.pdf', 'rb')\n",
    "\n",
    "# Criar um objeto PDFWriter\n",
    "escritor = pdf.PdfWriter()\n",
    "\n",
    "# Rotacionar todas as páginas 90 graus no sentido horário\n",
    "leitor = pdf.PdfReader(arquivo)\n",
    "for pagina in range(len(leitor.pages)):\n",
    "    # Rotaciona a página 90 graus no sentido horário\n",
    "    pagina_rotacionada = leitor.pages[pagina].rotate(90)\n",
    "    # Adiciona a página rotacionada ao escritor\n",
    "    escritor.add_page(pagina_rotacionada)\n",
    "\n",
    "# Salvar o novo arquivo PDF com um nome diferente\n",
    "with open('documento_rotacionado.pdf', 'wb') as arquivo_rotacionado:\n",
    "    # Escreve o conteúdo no novo arquivo PDF\n",
    "    escritor.write(arquivo_rotacionado)\n"
   ]
  },
  {
   "cell_type": "code",
   "execution_count": null,
   "metadata": {},
   "outputs": [],
   "source": [
    "\"\"\"\n",
    "8. Manipulação de Imagens com Pillow:\n",
    "• Carregue uma imagem de sua escolha utilizando o Pillow, redimensione-a para\n",
    "metade de suas dimensões originais e aplique um filtro de desfoque. Salve a nova\n",
    "imagem em um arquivo diferente.\"\"\"\n",
    "\n",
    "# Importar a biblioteca Pillow\n",
    "from PIL import Image, ImageFilter\n",
    "# Carregar a imagem\n",
    "imagem = Image.open('P1230118.jpg')\n",
    "# Redimensionar a imagem para metade de suas dimensões originais\n",
    "largura, altura = imagem.size\n",
    "nova_imagem = imagem.resize((largura // 2, altura // 2))\n",
    "# Aplicar um filtro de desfoque\n",
    "nova_imagem = nova_imagem.filter(ImageFilter.BLUR)\n",
    "# Salvar a nova imagem em um arquivo diferente\n",
    "nova_imagem.save('nova_imagem.jpg')"
   ]
  },
  {
   "cell_type": "code",
   "execution_count": null,
   "metadata": {},
   "outputs": [],
   "source": [
    "\"\"\"\n",
    "9. Conversão de Imagem para Escala de Cinza:\n",
    "• Utilize a biblioteca Pillow para carregar uma imagem, converter para escala de\n",
    "cinza e salvá-la com um novo nome. Compare a imagem original com a imagem\n",
    "convertida.\"\"\"\n",
    "\n",
    "# Carregar a imagem\n",
    "imagem = Image.open('P1230118.jpg')\n",
    "# Converter a imagem para escala de cinza\n",
    "imagem_cinza = imagem.convert('L')\n",
    "# Salvar a imagem em escala de cinza com um novo nome\n",
    "imagem_cinza.save('imagem_cinza.jpg')\n",
    "# Exibir a imagem original e a imagem em escala de cinza\n",
    "imagem.show()\n",
    "# Exibir a imagem em escala de cinza\n",
    "imagem_cinza.show()"
   ]
  },
  {
   "cell_type": "code",
   "execution_count": null,
   "metadata": {},
   "outputs": [],
   "source": [
    "\"\"\"10. Automação de Tarefas com PyAutoGUI:\n",
    "• Crie um script que utilize o PyAutoGUI para abrir o navegador de internet, acessar\n",
    "um site específico e capturar uma captura de tela da página inicial.\"\"\"\n",
    "\n",
    "#importar o pyautogui\n",
    "import pyautogui as pg\n",
    "import time\n",
    "# Abrir o navegador de internet\n",
    "pg.hotkey('command', 'space')\n",
    "time.sleep(1)  # Aguardar um segundo para o Spotlight abrir\n",
    "pg.write('chrome') # Escrever 'chrome' no Spotlight\n",
    "time.sleep(1)  # Aguardar um segundo para o Chrome abrir\n",
    "pg.press('enter') # Pressionar a tecla Enter para abrir o Chrome\n",
    "time.sleep(2)  # Aguardar dois segundos para o Chrome carregar\n",
    "# Acessar um site específico\n",
    "pg.write('www.google.com')\n",
    "time.sleep(1) # Aguardar um segundo para o Google ser digitado\n",
    "pg.press('enter') # Pressionar a tecla Enter para acessar o site\n",
    "time.sleep(5)  # Aguardar cinco segundos para o Google carregar\n",
    "# Capturar uma captura de tela da página inicial\n",
    "captura = pg.screenshot() # Capturar a tela\n",
    "captura.save('captura_pagina_inicial.png') # Salvar a captura de tela"
   ]
  },
  {
   "cell_type": "code",
   "execution_count": 22,
   "metadata": {},
   "outputs": [],
   "source": [
    "\"\"\"\n",
    "11. Preenchimento Automático de Formulários:\n",
    "• Utilize o PyAutoGUI para simular o preenchimento automático de um formulário\n",
    "online. O script deve localizar os campos do formulário, digitar informações e clicar\n",
    "no botão de envio.\"\"\"\n",
    "\n",
    "# Abrir o navegador de internet\n",
    "pg.hotkey('command', 'space')\n",
    "time.sleep(1)  # Aguardar um segundo para o Spotlight abrir\n",
    "pg.write('safari')\n",
    "time.sleep(1)  # Aguardar um segundo para o Chrome abrir\n",
    "pg.press('enter')\n",
    "time.sleep(2)  # Aguardar dois segundos para o Chrome carregar\n",
    "#abrir nova janela com atalho de teclado \n",
    "pg.hotkey('command', 'n')\n",
    "time.sleep(2)  # Aguardar dois segundos para o Chrome carregar\n",
    "# Acessar um formulário online\n",
    "pg.write('forms.gle/7K5Ytn9DNCoEyr597')\n",
    "time.sleep(2)\n",
    "pg.press('enter')\n",
    "# Localizar os campos do formulário e preenchê-los\n",
    "pg.click(100, 200)  # Clicar no primeiro campo do formulário\n",
    "pg.write('Nome') # Digitar o nome\n",
    "pg.click(100, 300)  # Clicar no segundo campo do formulário\n",
    "pg.write('Email') # Digitar o email\n",
    "pg.click(100, 400)  # Clicar no terceiro campo do formulário\n",
    "pg.write('Mensagem') # Digitar a mensagem\n",
    "# Clicar no botão de envio\n",
    "pg.click(100, 500)"
   ]
  },
  {
   "cell_type": "code",
   "execution_count": null,
   "metadata": {},
   "outputs": [
    {
     "name": "stdout",
     "output_type": "stream",
     "text": [
      "\n"
     ]
    }
   ],
   "source": [
    "\"\"\"\n",
    "12. Extração de Texto de Imagens com Pytesseract:\n",
    "• Crie um script que carregue uma imagem de texto manuscrito e utilize o Pytesseract\n",
    "para extrair o texto da imagem. Exiba o texto extraído no console.\"\"\"\n",
    "\n",
    "# Importar a biblioteca pytesseract\n",
    "import pytesseract as pt\n",
    "from PIL import Image\n",
    "\n",
    "# Carregar a imagem de texto manuscrito\n",
    "imagem = Image.open('1459912_702831813069870_1945061237_n-2.jpg')\n",
    "\n",
    "# Extrair o texto da imagem\n",
    "texto = pt.image_to_string(imagem)\n",
    "\n",
    "# Exibir o texto extraído no console\n",
    "print(texto)"
   ]
  },
  {
   "cell_type": "code",
   "execution_count": 5,
   "metadata": {},
   "outputs": [
    {
     "name": "stderr",
     "output_type": "stream",
     "text": [
      "2024-10-29 20:56:50.859 Python[27320:3283742] WARNING: AVCaptureDeviceTypeExternal is deprecated for Continuity Cameras. Please use AVCaptureDeviceTypeContinuityCamera and add NSCameraUseContinuityCameraDeviceType to your Info.plist.\n"
     ]
    },
    {
     "ename": "error",
     "evalue": "OpenCV(4.10.0) /Users/runner/work/opencv-python/opencv-python/opencv/modules/imgproc/src/color.cpp:196: error: (-215:Assertion failed) !_src.empty() in function 'cvtColor'\n",
     "output_type": "error",
     "traceback": [
      "\u001b[0;31m---------------------------------------------------------------------------\u001b[0m",
      "\u001b[0;31merror\u001b[0m                                     Traceback (most recent call last)",
      "Cell \u001b[0;32mIn[5], line 20\u001b[0m\n\u001b[1;32m     18\u001b[0m \u001b[38;5;28;01mwhile\u001b[39;00m cap\u001b[38;5;241m.\u001b[39misOpened():  \u001b[38;5;66;03m# Loop enquanto a captura de vídeo estiver aberta\u001b[39;00m\n\u001b[1;32m     19\u001b[0m     diff \u001b[38;5;241m=\u001b[39m cv2\u001b[38;5;241m.\u001b[39mabsdiff(frame1, frame2)  \u001b[38;5;66;03m# Calcula a diferença absoluta entre os dois frames\u001b[39;00m\n\u001b[0;32m---> 20\u001b[0m     gray \u001b[38;5;241m=\u001b[39m \u001b[43mcv2\u001b[49m\u001b[38;5;241;43m.\u001b[39;49m\u001b[43mcvtColor\u001b[49m\u001b[43m(\u001b[49m\u001b[43mdiff\u001b[49m\u001b[43m,\u001b[49m\u001b[43m \u001b[49m\u001b[43mcv2\u001b[49m\u001b[38;5;241;43m.\u001b[39;49m\u001b[43mCOLOR_BGR2GRAY\u001b[49m\u001b[43m)\u001b[49m  \u001b[38;5;66;03m# Converte a imagem de diferença para escala de cinza\u001b[39;00m\n\u001b[1;32m     21\u001b[0m     blur \u001b[38;5;241m=\u001b[39m cv2\u001b[38;5;241m.\u001b[39mGaussianBlur(gray, (\u001b[38;5;241m5\u001b[39m, \u001b[38;5;241m5\u001b[39m), \u001b[38;5;241m0\u001b[39m)  \u001b[38;5;66;03m# Aplica um desfoque gaussiano para suavizar a imagem\u001b[39;00m\n\u001b[1;32m     22\u001b[0m     _, thresh \u001b[38;5;241m=\u001b[39m cv2\u001b[38;5;241m.\u001b[39mthreshold(blur, \u001b[38;5;241m20\u001b[39m, \u001b[38;5;241m255\u001b[39m, cv2\u001b[38;5;241m.\u001b[39mTHRESH_BINARY)  \u001b[38;5;66;03m# Aplica um limiar para criar uma imagem binária\u001b[39;00m\n",
      "\u001b[0;31merror\u001b[0m: OpenCV(4.10.0) /Users/runner/work/opencv-python/opencv-python/opencv/modules/imgproc/src/color.cpp:196: error: (-215:Assertion failed) !_src.empty() in function 'cvtColor'\n"
     ]
    }
   ],
   "source": [
    "\"\"\"\n",
    "13. Detecção de Movimento com OpenCV:\n",
    "• Utilize a biblioteca OpenCV para criar um script que capture o vídeo da webcam\n",
    "e detecte movimentos na cena, desenhando um retângulo ao redor das áreas de\n",
    "movimento detectadas.\"\"\"\n",
    "\n",
    "# Importar a biblioteca OpenCV\n",
    "import cv2 \n",
    "\n",
    "# Capturar o vídeo da webcam\n",
    "cap = cv2.VideoCapture(0)  # Inicia a captura de vídeo da webcam (dispositivo 0)\n",
    "\n",
    "# Ler dois frames iniciais da webcam\n",
    "ret, frame1 = cap.read()  # Lê o primeiro frame\n",
    "ret, frame2 = cap.read()  # Lê o segundo frame\n",
    "\n",
    "# Detectar movimentos na cena\n",
    "while cap.isOpened():  # Loop enquanto a captura de vídeo estiver aberta\n",
    "    diff = cv2.absdiff(frame1, frame2)  # Calcula a diferença absoluta entre os dois frames\n",
    "    gray = cv2.cvtColor(diff, cv2.COLOR_BGR2GRAY)  # Converte a imagem de diferença para escala de cinza\n",
    "    blur = cv2.GaussianBlur(gray, (5, 5), 0)  # Aplica um desfoque gaussiano para suavizar a imagem\n",
    "    _, thresh = cv2.threshold(blur, 20, 255, cv2.THRESH_BINARY)  # Aplica um limiar para criar uma imagem binária\n",
    "    \n",
    "    dilated = cv2.dilate(thresh, None, iterations=3)  # Dilata a imagem binária para preencher buracos\n",
    "    contours, _ = cv2.findContours(dilated, cv2.RETR_TREE, cv2.CHAIN_APPROX_SIMPLE)  # Encontra os contornos na imagem dilatada\n",
    "    for contour in contours:  # Itera sobre cada contorno encontrado\n",
    "        (x, y, w, h) = cv2.boundingRect(contour)  # Obtém o retângulo delimitador do contorno\n",
    "        if cv2.contourArea(contour) < 900:  # Ignora contornos pequenos com área menor que 900\n",
    "            continue\n",
    "        cv2.rectangle(frame1, (x, y), (x+w, y+h), (0, 255, 0), 2)  # Desenha um retângulo ao redor do contorno\n",
    "        cv2.putText(frame1, \"Movimento\", (10, 20), cv2.FONT_HERSHEY_SIMPLEX, 1, (0, 0, 255), 2)  # Adiciona texto indicando movimento\n",
    "    cv2.imshow('Motion detection', frame1)  # Exibe o frame com detecção de movimento\n",
    "    frame1 = frame2  # Atualiza frame1 para o próximo frame\n",
    "    ret, frame2 = cap.read()  # Lê o próximo frame\n",
    "    if cv2.waitKey(1) & 0xFF == ord('q'):  # Sai do loop se a tecla 'q' for pressionada\n",
    "        break\n",
    "\n",
    "# Libera a captura de vídeo e fecha todas as janelas abertas\n",
    "cap.release()\n",
    "cv2.destroyAllWindows()\n"
   ]
  },
  {
   "cell_type": "code",
   "execution_count": null,
   "metadata": {},
   "outputs": [],
   "source": [
    "\"\"\"\n",
    "14. Aplicação de Filtros de Vídeo com OpenCV:\n",
    "• Crie um script que capture um vídeo de um arquivo, aplique um filtro de detecção\n",
    "de bordas em tempo real e exiba o vídeo com o filtro aplicado.\n",
    "\"\"\"\n",
    "# Importar a biblioteca OpenCV\n",
    "import cv2\n",
    "\n",
    "# Capturar o vídeo de um arquivo\n",
    "cap = cv2.VideoCapture('video.mp4')\n",
    "\n",
    "# Aplicar um filtro de detecção de bordas em tempo real\n",
    "while cap.isOpened():  # Loop enquanto a captura de vídeo estiver aberta\n",
    "    ret, frame = cap.read()  # Ler um frame do vídeo\n",
    "    if not ret:  # Se não conseguir ler o frame, sair do loop\n",
    "        break\n",
    "    gray = cv2.cvtColor(frame, cv2.COLOR_BGR2GRAY)  # Converter o frame para escala de cinza\n",
    "    edges = cv2.Canny(gray, 100, 200)  # Aplicar o filtro de detecção de bordas Canny\n",
    "    cv2.imshow('Edge detection', edges)  # Exibir o frame com o filtro aplicado\n",
    "    if cv2.waitKey(1) & 0xFF == ord('q'):  # Se a tecla 'q' for pressionada, sair do loop\n",
    "        break\n",
    "\n",
    "# Fechar o vídeo\n",
    "cap.release()  # Liberar a captura de vídeo\n",
    "cv2.destroyAllWindows()  # Fechar todas as janelas abertas pelo OpenCV\n",
    "\n"
   ]
  },
  {
   "cell_type": "code",
   "execution_count": null,
   "metadata": {},
   "outputs": [],
   "source": [
    "\"\"\"15. Criação de Bot para Tarefas Repetitivas:\n",
    "• Desenvolva um bot utilizando o PyAutoGUI que abra um aplicativo do computador\n",
    "(como uma calculadora), realize uma série de operações matemáticas (como\n",
    "somar, subtrair, multiplicar e dividir) e depois feche o aplicativo automaticamente.\n",
    "\"\"\"\n",
    "# Importar a biblioteca PyAutoGUI\n",
    "import pyautogui as pg\n",
    "import time\n",
    "\n",
    "# Abrir a calculadora\n",
    "pg.hotkey('command', 'space')  # Pressiona as teclas 'command' e 'space' para abrir o Spotlight no macOS\n",
    "time.sleep(1)  # Aguardar um segundo para o Spotlight abrir\n",
    "pg.write('calc')  # Digita 'calc' no Spotlight para procurar a Calculadora\n",
    "pg.press('enter')  # Pressiona a tecla Enter para abrir a Calculadora\n",
    "time.sleep(2)  # Aguarda dois segundos para a Calculadora carregar\n",
    "\n",
    "# Realizar uma série de operações matemáticas\n",
    "pg.write('2')  # Digita o número 2\n",
    "time.sleep(1)  # Aguardar um segundo\n",
    "pg.press('enter')  # Pressiona a tecla Enter\n",
    "time.sleep(1)  # Aguardar um segundo\n",
    "pg.write('+')  # Digita o símbolo de adição '+'\n",
    "time.sleep(1)  # Aguardar um segundo\n",
    "pg.write('2')  # Digita o número 2\n",
    "time.sleep(1)  # Aguardar um segundo\n",
    "pg.press('enter')  # Pressiona a tecla Enter\n",
    "time.sleep(1)  # Aguardar um segundo\n",
    "pg.write('-')  # Digita o símbolo de subtração '-'\n",
    "time.sleep(1)  # Aguardar um segundo\n",
    "pg.write('1')  # Digita o número 1\n",
    "time.sleep(1)  # Aguardar um segundo\n",
    "pg.press('enter')  # Pressiona a tecla Enter\n",
    "time.sleep(1)  # Aguardar um segundo\n",
    "pg.write('*')  # Digita o símbolo de multiplicação '*'\n",
    "time.sleep(1)  # Aguardar um segundo\n",
    "pg.write('3')  # Digita o número 3\n",
    "time.sleep(1)  # Aguardar um segundo\n",
    "pg.press('enter')  # Pressiona a tecla Enter\n",
    "time.sleep(1)  # Aguardar um segundo\n",
    "pg.write('/')  # Digita o símbolo de divisão '/'\n",
    "time.sleep(1)  # Aguardar um segundo\n",
    "pg.write('2')  # Digita o número 2\n",
    "time.sleep(1)  # Aguardar um segundo\n",
    "pg.press('enter')  # Pressiona a tecla Enter\n",
    "\n",
    "# Fechar a calculadora\n",
    "pg.hotkey('command', 'q')  # Pressiona as teclas 'command' e 'q' para fechar a Calculadora\n"
   ]
  },
  {
   "cell_type": "markdown",
   "metadata": {},
   "source": [
    "**7.15 PRATICANDO E PRATICANDO**\n",
    "1. Escreva um programa que solicite ao usuário um número inteiro. Caso o usuário digite\n",
    "algo que não seja um número inteiro, exiba uma mensagem de erro informando que a\n",
    "entrada é inválida. Use um bloco try/except para capturar a exceção.\n",
    "2. Crie um programa que peça ao usuário dois números e realize a divisão do primeiro pelo\n",
    "segundo. Caso o segundo número seja zero, o programa deve informar que a divisão\n",
    "por zero não é permitida e solicitar um novo valor.\n",
    "3. Desenvolva um programa que tente abrir um arquivo chamado \"dados.txt\" para leitura.\n",
    "Se o arquivo não existir, capture a exceção e exiba uma mensagem informando que o\n",
    "arquivo não foi encontrado.\n",
    "4. Crie um programa que solicite ao usuário uma lista de compras e grave os itens em um\n",
    "arquivo chamado \"lista_de_compras.txt\", um item por linha.\n",
    "5. Escreva um programa que leia o conteúdo de um arquivo chamado \"notas.txt\" e\n",
    "exiba o texto na tela. Use o gerenciador de contexto with para garantir o fechamento do\n",
    "arquivo após a leitura.\n",
    "6. Modifique o exercício anterior para adicionar uma nova nota ao final do arquivo \"notas.txt\"\n",
    "sem sobrescrever o conteúdo existente. Utilize o modo de abertura apropriado para\n",
    "anexar o texto.\n",
    "7. Crie um programa que leia um arquivo chamado \"clientes.csv\" linha por linha e exiba\n",
    "o conteúdo na tela. O programa deve ignorar qualquer linha em branco que possa existir\n",
    "no arquivo.\n",
    "8. Escreva um programa que solicite ao usuário um número de CPF. Se o CPF não tiver\n",
    "exatamente 11 dígitos, o programa deve lançar uma exceção personalizada chamada\n",
    "CPFInvalido. Capture a exceção e exiba uma mensagem informando o erro.\n",
    "9. Desenvolva um programa que leia um arquivo binário (como uma imagem) e o copie\n",
    "para outro arquivo. Implemente o código de forma que a leitura e escrita sejam feitas em\n",
    "blocos de 1024 bytes, garantindo que grandes arquivos possam ser processados sem\n",
    "consumir muita memória.\n",
    "10. Implemente um programa que simule um sistema de log de eventos. Cada vez que um\n",
    "evento ocorrer, o programa deve registrá-lo em um arquivo chamado \"log.txt\" com\n",
    "um carimbo de data e hora. O programa deve capturar e tratar exceções que possam\n",
    "ocorrer durante a escrita no arquivo, como erros de permissão. Além disso, ele deve\n",
    "periodicamente (a cada 10 eventos, por exemplo) arquivar o log atual e criar um novo\n",
    "arquivo de log, renomeando o antigo com a data de arquivamento."
   ]
  },
  {
   "cell_type": "code",
   "execution_count": null,
   "metadata": {},
   "outputs": [
    {
     "name": "stdout",
     "output_type": "stream",
     "text": [
      "Entrada inválida. Digite um número inteiro.\n"
     ]
    }
   ],
   "source": [
    "\"\"\"1. Escreva um programa que solicite ao usuário um número inteiro. Caso o usuário digite\n",
    "algo que não seja um número inteiro, exiba uma mensagem de erro informando que a\n",
    "entrada é inválida. Use um bloco try/except para capturar a exceção.\"\"\"\n",
    "\n",
    "# solicitar entrada do usuário\n",
    "numero = input(\"Digite um número inteiro: \")\n",
    "\n",
    "try:\n",
    "    # tenta converter a entrada do usuário para um número inteiro\n",
    "    numero = int(numero)\n",
    "    # se a conversão for bem-sucedida, imprime o número digitado\n",
    "    print(\"Número digitado:\", numero)\n",
    "except ValueError:\n",
    "    # se ocorrer um ValueError (entrada não é um número inteiro), imprime uma mensagem de erro\n",
    "    print(\"Entrada inválida. Digite um número inteiro.\")\n",
    "    "
   ]
  },
  {
   "cell_type": "code",
   "execution_count": null,
   "metadata": {},
   "outputs": [
    {
     "name": "stdout",
     "output_type": "stream",
     "text": [
      "Divisão por zero não é permitida. Digite um novo valor para o segundo número.\n",
      "Resultado da divisão: 0.6666666666666666\n"
     ]
    }
   ],
   "source": [
    "\n",
    "\"\"\"\n",
    "2. Crie um programa que peça ao usuário dois números e realize a divisão do primeiro pelo\n",
    "segundo. Caso o segundo número seja zero, o programa deve informar que a divisão\n",
    "por zero não é permitida e solicitar um novo valor.\n",
    "\"\"\"\n",
    "# Solicitar entrada do usuário de dois números\n",
    "numero1 = float(input(\"Digite o primeiro número: \"))\n",
    "numero2 = float(input(\"Digite o segundo número: \"))\n",
    "\n",
    "# Realizar a divisão do primeiro pelo segundo\n",
    "try:\n",
    "    # Tenta realizar a divisão\n",
    "    resultado = numero1 / numero2\n",
    "    # Se a divisão for bem-sucedida, imprime o resultado\n",
    "    print(f\"Resultado da divisão: {resultado}\")\n",
    "except ZeroDivisionError:\n",
    "    # Se ocorrer uma divisão por zero, imprime uma mensagem de erro\n",
    "    print(\"Divisão por zero não é permitida. Digite um novo valor para o segundo número.\")\n",
    "    # Solicita um novo valor para o segundo número\n",
    "    numero2 = float(input(\"Digite o segundo número: \"))\n",
    "    # Realiza a divisão novamente com o novo valor\n",
    "    resultado = numero1 / numero2\n",
    "    # Imprime o resultado da divisão\n",
    "    print(f\"Resultado da divisão: {resultado}\")"
   ]
  },
  {
   "cell_type": "code",
   "execution_count": null,
   "metadata": {},
   "outputs": [
    {
     "name": "stdout",
     "output_type": "stream",
     "text": [
      "Arquivo não encontrado.\n"
     ]
    }
   ],
   "source": [
    "\"\"\"\n",
    "3. Desenvolva um programa que tente abrir um arquivo chamado \"dados.txt\" para leitura.\n",
    "Se o arquivo não existir, capture a exceção e exiba uma mensagem informando que o\n",
    "arquivo não foi encontrado.\n",
    "\"\"\"\n",
    "# Tentar abrir o arquivo \"dados.txt\" para leitura\n",
    "try:\n",
    "    # Abre o arquivo \"dados.txt\" no modo de leitura\n",
    "    with open('dados.txt', 'r') as arquivo:\n",
    "        # Lê o conteúdo do arquivo\n",
    "        conteudo = arquivo.read()\n",
    "        # Imprime o conteúdo do arquivo\n",
    "        print(conteudo)\n",
    "# Captura a exceção caso o arquivo não seja encontrado\n",
    "except FileNotFoundError:\n",
    "    # Imprime uma mensagem informando que o arquivo não foi encontrado\n",
    "    print(\"Arquivo não encontrado.\")"
   ]
  },
  {
   "cell_type": "code",
   "execution_count": null,
   "metadata": {},
   "outputs": [
    {
     "name": "stdout",
     "output_type": "stream",
     "text": [
      "Itens da lista de compras gravados no arquivo.\n"
     ]
    }
   ],
   "source": [
    "\n",
    "\"\"\"\n",
    "4. Crie um programa que solicite ao usuário uma lista de compras e grave os itens em um\n",
    "arquivo chamado \"lista_de_compras.txt\", um item por linha.\n",
    "\"\"\"\n",
    "# cria arquivo lista_de_compras.txt\n",
    "with open('lista_de_compras.txt', 'w') as arquivo:  # Abre o arquivo 'lista_de_compras.txt' no modo de escrita ('w')\n",
    "    while True:  # Inicia um loop infinito\n",
    "        item = input(\"Digite um item da lista de compras (ou 'fim' para encerrar): \")  # Solicita ao usuário que digite um item da lista de compras\n",
    "        if item == 'fim':  # Verifica se o usuário digitou 'fim' para encerrar a entrada de itens\n",
    "            break  # Encerra o loop se o usuário digitou 'fim'\n",
    "        arquivo.write(item + '\\n')  # Escreve o item no arquivo, seguido por uma nova linha\n",
    "print(\"Itens da lista de compras gravados no arquivo.\")  # Informa ao usuário que os itens foram gravados no arquivo\n"
   ]
  },
  {
   "cell_type": "code",
   "execution_count": null,
   "metadata": {},
   "outputs": [
    {
     "name": "stdout",
     "output_type": "stream",
     "text": [
      "Notas dos alunos:\n",
      "Ana: 9.5\n",
      "Bruno: 8.0\n",
      "Carla: 7.5\n",
      "Diego: 9.0\n",
      "Elisa: 8.5\n",
      "\n"
     ]
    }
   ],
   "source": [
    "\n",
    "\n",
    "\"\"\"5. Escreva um programa que leia o conteúdo de um arquivo chamado \"notas.txt\" e\n",
    "exiba o texto na tela. Use o gerenciador de contexto with para garantir o fechamento do\n",
    "arquivo após a leitura.\n",
    "\"\"\"\n",
    "\n",
    "#abrir o arquivo notas.txt e exibir o conteúdo na tela \n",
    "with open('notas.txt', 'r') as arquivo:  # Abre o arquivo 'notas.txt' no modo de leitura ('r') e associa ao objeto 'arquivo'\n",
    "    conteudo = arquivo.read()  # Lê todo o conteúdo do arquivo e armazena na variável 'conteudo'\n",
    "    print(conteudo)  # Imprime o conteúdo do arquivo na tela\n"
   ]
  },
  {
   "cell_type": "code",
   "execution_count": null,
   "metadata": {},
   "outputs": [
    {
     "name": "stdout",
     "output_type": "stream",
     "text": [
      "Notas dos alunos:\n",
      "Ana: 9.5\n",
      "Bruno: 8.0\n",
      "Carla: 7.5\n",
      "Diego: 9.0\n",
      "Elisa: 8.5\n",
      "Fernando. 8.4\n",
      "\n",
      "Nova nota adicionada ao arquivo.\n",
      "Notas dos alunos:\n",
      "Ana: 9.5\n",
      "Bruno: 8.0\n",
      "Carla: 7.5\n",
      "Diego: 9.0\n",
      "Elisa: 8.5\n",
      "Fernando. 8.4\n",
      "Alberto: 2.5\n",
      "\n"
     ]
    }
   ],
   "source": [
    "\n",
    "\"\"\"\n",
    "6. Modifique o exercício anterior para adicionar uma nova nota ao final do arquivo \"notas.txt\"\n",
    "sem sobrescrever o conteúdo existente. Utilize o modo de abertura apropriado para\n",
    "anexar o texto.\n",
    "\"\"\"\n",
    "\n",
    "\n",
    "#adicionar uma nova nota ao final do arquivo notas.txt\n",
    "\n",
    "# Abre o arquivo 'notas.txt' no modo de leitura ('r')\n",
    "with open('notas.txt', 'r') as arquivo:\n",
    "    # Lê todo o conteúdo do arquivo e armazena na variável 'conteudo'\n",
    "    conteudo = arquivo.read()\n",
    "    # Imprime o conteúdo do arquivo na tela\n",
    "    print(conteudo)\n",
    "\n",
    "# Abre o arquivo 'notas.txt' no modo de anexação ('a')\n",
    "with open('notas.txt', 'a') as arquivo:\n",
    "    # Solicita ao usuário que digite uma nova nota\n",
    "    nova_nota = input(\"Digite uma nova nota: \")\n",
    "    # Escreve a nova nota no arquivo, seguida por uma nova linha\n",
    "    arquivo.write(nova_nota + '\\n')\n",
    "\n",
    "# Informa ao usuário que a nova nota foi adicionada ao arquivo\n",
    "print(\"Nova nota adicionada ao arquivo.\")\n",
    "\n",
    "# Abre o arquivo 'notas.txt' no modo de leitura ('r') novamente\n",
    "with open('notas.txt', 'r') as arquivo:\n",
    "    # Lê todo o conteúdo do arquivo e armazena na variável 'conteudo'\n",
    "    conteudo = arquivo.read()\n",
    "    # Imprime o conteúdo do arquivo na tela\n",
    "    print(conteudo)\n"
   ]
  },
  {
   "cell_type": "code",
   "execution_count": null,
   "metadata": {},
   "outputs": [
    {
     "name": "stdout",
     "output_type": "stream",
     "text": [
      "Nome,Telefone\n",
      "\n",
      "Ana,123456789\n",
      "\n",
      "Bruno,987654321\n",
      "\n",
      "Amanda, 123456789\n",
      "\n",
      "João, 123456789\n"
     ]
    }
   ],
   "source": [
    "\n",
    "\"\"\"\n",
    "7. Crie um programa que leia um arquivo chamado \"clientes.csv\" linha por linha e exiba\n",
    "o conteúdo na tela. O programa deve ignorar qualquer linha em branco que possa existir\n",
    "no arquivo.\n",
    "\"\"\"\n",
    "\n",
    "# Ler arquivo clientes.csv linha por linha e exibir o conteúdo na tela ignorando linhas vazias\n",
    "\n",
    "# Abre o arquivo 'clientes.csv' no modo de leitura ('r')\n",
    "with open('clientes.csv', 'r') as arquivo:\n",
    "    # Itera sobre cada linha do arquivo\n",
    "    for linha in arquivo:\n",
    "        # Verifica se a linha não está vazia (após remover espaços em branco)\n",
    "        if linha.strip():\n",
    "            # Imprime a linha\n",
    "            print(linha)"
   ]
  },
  {
   "cell_type": "code",
   "execution_count": null,
   "metadata": {},
   "outputs": [
    {
     "name": "stdout",
     "output_type": "stream",
     "text": [
      "CPF inválido. O CPF deve conter exatamente 11 dígitos.\n"
     ]
    }
   ],
   "source": [
    "\"\"\"\n",
    "8. Escreva um programa que solicite ao usuário um número de CPF. Se o CPF não tiver\n",
    "exatamente 11 dígitos, o programa deve lançar uma exceção personalizada chamada\n",
    "CPFInvalido. Capture a exceção e exiba uma mensagem informando o erro.\n",
    "\"\"\"\n",
    "\n",
    "# Definir uma exceção personalizada chamada CPFInvalido\n",
    "class CPFInvalido(Exception):\n",
    "    pass\n",
    "\n",
    "try:\n",
    "    # Solicitar a entrada do usuário para o número do CPF\n",
    "    cpf = input(\"Digite o número do CPF (11 dígitos): \")\n",
    "    \n",
    "    # Verificar se o CPF tem exatamente 11 dígitos\n",
    "    if len(cpf) != 11:\n",
    "        # Se o CPF não tiver 11 dígitos, lançar a exceção CPFInvalido\n",
    "        raise CPFInvalido\n",
    "    \n",
    "    # Se o CPF tiver 11 dígitos, imprimir o CPF digitado\n",
    "    print(\"CPF digitado:\", cpf)\n",
    "\n",
    "# Capturar a exceção CPFInvalido\n",
    "except CPFInvalido:\n",
    "    # Imprimir uma mensagem informando que o CPF é inválido\n",
    "    print(\"CPF inválido. O CPF deve conter exatamente 11 dígitos.\")\n",
    "    "
   ]
  },
  {
   "cell_type": "code",
   "execution_count": null,
   "metadata": {},
   "outputs": [
    {
     "name": "stdout",
     "output_type": "stream",
     "text": [
      "Arquivo copiado com sucesso.\n"
     ]
    }
   ],
   "source": [
    "\n",
    "\"\"\"\n",
    "9. Desenvolva um programa que leia um arquivo binário (como uma imagem) e o copie\n",
    "para outro arquivo. Implemente o código de forma que a leitura e escrita sejam feitas em\n",
    "blocos de 1024 bytes, garantindo que grandes arquivos possam ser processados sem\n",
    "consumir muita memória.\"\"\"\n",
    "# Ler um arquivo binário e copiá-lo para outro arquivo em blocos de 1024 bytes\n",
    "with open('imagem_cinza.jpg', 'rb') as arquivo1:  # Abre o arquivo 'imagem_cinza.jpg' no modo de leitura binária ('rb')\n",
    "    with open('imagem2.jpg', 'wb') as arquivo2:  # Abre o arquivo 'imagem2.jpg' no modo de escrita binária ('wb')\n",
    "        while True:  # Inicia um loop infinito\n",
    "            bloco = arquivo1.read(1024)  # Lê um bloco de 1024 bytes do arquivo 'imagem_cinza.jpg'\n",
    "            if not bloco:  # Verifica se o bloco está vazio (fim do arquivo)\n",
    "                break  # Encerra o loop se o bloco estiver vazio\n",
    "            arquivo2.write(bloco)  # Escreve o bloco lido no arquivo 'imagem2.jpg'\n",
    "print(\"Arquivo copiado com sucesso.\")  # Imprime uma mensagem indicando que o arquivo foi copiado com sucesso\n"
   ]
  },
  {
   "cell_type": "code",
   "execution_count": null,
   "metadata": {},
   "outputs": [],
   "source": [
    "\n",
    "\"\"\"10. Implemente um programa que simule um sistema de log de eventos. Cada vez que um\n",
    "evento ocorrer, o programa deve registrá-lo em um arquivo chamado \"log.txt\" com\n",
    "um carimbo de data e hora. O programa deve capturar e tratar exceções que possam\n",
    "ocorrer durante a escrita no arquivo, como erros de permissão. Além disso, ele deve\n",
    "periodicamente (a cada 10 eventos, por exemplo) arquivar o log atual e criar um novo\n",
    "arquivo de log, renomeando o antigo com a data de arquivamento.\n",
    "\"\"\"\n",
    "import datetime  # Importa o módulo datetime para trabalhar com datas e horas\n",
    "import os  # Importa o módulo os para interagir com o sistema operacional\n",
    "import shutil  # Importa o módulo shutil para operações de arquivos de alto nível\n",
    "\n",
    "# Contador de eventos\n",
    "contador_eventos = 0  # Inicializa o contador de eventos com zero\n",
    "\n",
    "def registrar_evento(evento):\n",
    "    global contador_eventos  # Declara que a variável contador_eventos é global\n",
    "    try:\n",
    "        with open('log.txt', 'a') as arquivo_log:  # Abre o arquivo log.txt no modo de anexação ('a')\n",
    "            timestamp = datetime.datetime.now().strftime('%Y-%m-%d %H:%M:%S')  # Obtém o timestamp atual no formato especificado\n",
    "            arquivo_log.write(f'{timestamp} - {evento}\\n')  # Escreve o timestamp e o evento no arquivo de log\n",
    "        contador_eventos += 1  # Incrementa o contador de eventos\n",
    "        if contador_eventos >= 10:  # Verifica se o contador de eventos atingiu 10\n",
    "            arquivar_log()  # Chama a função para arquivar o log\n",
    "            contador_eventos = 0  # Reseta o contador de eventos para zero\n",
    "    except PermissionError:  # Captura exceções de erro de permissão\n",
    "        print(\"Erro de permissão ao tentar escrever no arquivo de log.\")  # Imprime uma mensagem de erro\n",
    "\n",
    "def arquivar_log():\n",
    "    try:\n",
    "        data_arquivamento = datetime.datetime.now().strftime('%Y-%m-%d_%H-%M-%S')  # Obtém a data e hora atual no formato especificado\n",
    "        shutil.move('log.txt', f'log_{data_arquivamento}.txt')  # Move o arquivo log.txt para um novo arquivo com a data de arquivamento\n",
    "    except Exception as e:  # Captura qualquer exceção que ocorra\n",
    "        print(f\"Erro ao arquivar o log: {e}\")  # Imprime uma mensagem de erro com a exceção\n",
    "\n",
    "# Simulação de eventos\n",
    "for i in range(25):  # Loop para simular 25 eventos\n",
    "    registrar_evento(f'Evento {i+1}')  # Chama a função registrar_evento com o evento atual"
   ]
  },
  {
   "cell_type": "markdown",
   "metadata": {},
   "source": [
    "**8.11 EXERCÍCIOS**\n",
    "1. Crie uma classe Pessoa que tenha os atributos nome e idade. Implemente um método\n",
    "exibir_informacoes() que exiba o nome e a idade da pessoa.\n",
    "2. Implemente uma classe Retangulo com atributos largura e altura. Crie um método\n",
    "calcular_area() que retorna a área do retângulo.\n",
    "3. Crie uma classe Carro com os atributos marca, modelo e ano. Implemente um método\n",
    "exibir_descricao() que exibe uma frase descrevendo o carro.\n",
    "4. Escreva uma classe ContaBancaria com os atributos titular e saldo. Adicione um\n",
    "método depositar(valor) para adicionar dinheiro à conta e outro método sacar(valor)\n",
    "para retirar dinheiro, garantindo que o saldo não fique negativo.\n",
    "5. Crie uma classe Livro que tenha os atributos titulo, autor e numero_de_paginas.\n",
    "Adicione um método resumo() que exiba uma breve descrição do livro.\n",
    "6. Implemente uma classe Aluno com os atributos nome e nota. Crie um método aprovado()\n",
    "que retorne True se a nota for maior ou igual a 7, e False caso contrário.\n",
    "7. Crie uma classe Funcionario com os atributos nome, salario e cargo. Adicione um\n",
    "método promover(novo_cargo) que atualiza o cargo do funcionário e aumenta o salário\n",
    "em 20%.\n",
    "8. Implemente uma classe Loja com o atributo estoque, que é um dicionário com os\n",
    "nomes dos produtos como chaves e as quantidades como valores. Adicione um método\n",
    "adicionar_produto(produto, quantidade) que atualiza o estoque e outro método\n",
    "vender(produto, quantidade) que reduz o estoque, garantindo que não fique nega-\n",
    "tivo.\n",
    "9. Crie uma classe Agenda que armazena compromissos. Cada compromisso tem uma\n",
    "data e uma descrição. Implemente métodos para adicionar compromissos, remover\n",
    "compromissos e exibir os compromissos de uma data específica.\n",
    "10. Implemente uma classe Matriz que receba uma matriz como um atributo. Adicione\n",
    "métodos para transpor a matriz, calcular seu determinante e multiplicá-la por outra\n",
    "matriz. Garanta que a multiplicação seja possível verificando as dimensões."
   ]
  },
  {
   "cell_type": "code",
   "execution_count": null,
   "metadata": {},
   "outputs": [
    {
     "name": "stdout",
     "output_type": "stream",
     "text": [
      "Nome: Maria\n",
      "Idade: 30\n"
     ]
    }
   ],
   "source": [
    "\"\"\"\n",
    "1. Crie uma classe Pessoa que tenha os atributos nome e idade. Implemente um método\n",
    "exibir_informacoes() que exiba o nome e a idade da pessoa.\n",
    "\"\"\"\n",
    "class Pessoa:\n",
    "    def __init__(self, nome, idade):\n",
    "        # Inicializa os atributos nome e idade com os valores fornecidos\n",
    "        self.nome = nome\n",
    "        self.idade = idade\n",
    "\n",
    "    def exibir_informacoes(self):\n",
    "        # Exibe o nome da pessoa\n",
    "        print(f\"Nome: {self.nome}\")\n",
    "        # Exibe a idade da pessoa\n",
    "        print(f\"Idade: {self.idade}\")\n",
    "\n",
    "# Cria uma instância da classe Pessoa com o nome 'Maria' e idade 30\n",
    "pessoa = Pessoa('Maria', 30)\n",
    "# Chama o método exibir_informacoes para exibir as informações da pessoa\n",
    "pessoa.exibir_informacoes()\n",
    "\n"
   ]
  },
  {
   "cell_type": "code",
   "execution_count": null,
   "metadata": {},
   "outputs": [
    {
     "name": "stdout",
     "output_type": "stream",
     "text": [
      "Área do retângulo: 50\n"
     ]
    }
   ],
   "source": [
    "\"\"\"\n",
    "2. Implemente uma classe Retangulo com atributos largura e altura. Crie um método\n",
    "calcular_area() que retorna a área do retângulo.\n",
    "\"\"\"\n",
    "\n",
    "# implementar classe retangulo \n",
    "class Retangulo:\n",
    "    def __init__(self, largura, altura):\n",
    "        # Inicializa os atributos largura e altura com os valores fornecidos\n",
    "        self.largura = largura\n",
    "        self.altura = altura\n",
    "\n",
    "    def calcular_area(self):\n",
    "        # Calcula a área do retângulo multiplicando a largura pela altura\n",
    "        return self.largura * self.altura\n",
    "    \n",
    "# Cria uma instância da classe Retangulo com largura 5 e altura 10\n",
    "retangulo = Retangulo(5, 10)\n",
    "# Calcula e imprime a área do retângulo\n",
    "print(\"Área do retângulo:\", retangulo.calcular_area())\n",
    "\n"
   ]
  },
  {
   "cell_type": "code",
   "execution_count": null,
   "metadata": {},
   "outputs": [
    {
     "name": "stdout",
     "output_type": "stream",
     "text": [
      "Carro: Toyota Corolla 2022\n"
     ]
    }
   ],
   "source": [
    "\"\"\"\n",
    "3. Crie uma classe Carro com os atributos marca, modelo e ano. Implemente um método\n",
    "exibir_descricao() que exibe uma frase descrevendo o carro.\n",
    "\"\"\"\n",
    "class Carro:\n",
    "    def __init__(self, marca, modelo, ano):\n",
    "        # Inicializa os atributos marca, modelo e ano com os valores fornecidos\n",
    "        self.marca = marca\n",
    "        self.modelo = modelo\n",
    "        self.ano = ano\n",
    "        \n",
    "    def exibir_descricao(self):\n",
    "        # Exibe uma frase descrevendo o carro com a marca, modelo e ano\n",
    "        print(f\"Carro: {self.marca} {self.modelo} {self.ano}\")\n",
    "    \n",
    "# Cria uma instância da classe Carro com a marca 'Toyota', modelo 'Corolla' e ano 2022\n",
    "carro = Carro('Toyota', 'Corolla', 2022)\n",
    "# Chama o método exibir_descricao para exibir a descrição do carro\n",
    "carro.exibir_descricao()"
   ]
  },
  {
   "cell_type": "code",
   "execution_count": null,
   "metadata": {},
   "outputs": [
    {
     "name": "stdout",
     "output_type": "stream",
     "text": [
      "Saldo da conta de João: R$ 1000.00\n",
      " O valor sacado foi: R$999999\n",
      "Saldo insuficiente.\n",
      "Saldo da conta de João: R$ 1000.00\n"
     ]
    }
   ],
   "source": [
    "\"\"\"\n",
    "4. Escreva uma classe ContaBancaria com os atributos titular e saldo. Adicione um\n",
    "método depositar(valor) para adicionar dinheiro à conta e outro método sacar(valor)\n",
    "para retirar dinheiro, garantindo que o saldo não fique negativo.\n",
    "\"\"\"\n",
    "\n",
    "class Contabancaria:\n",
    "    def __init__(self, titular, saldo):\n",
    "        # Inicializa os atributos titular e saldo com os valores fornecidos\n",
    "        self.titular = titular\n",
    "        self.saldo = saldo\n",
    "\n",
    "    def depositar(self, valor):\n",
    "        # Adiciona o valor fornecido ao saldo da conta\n",
    "        self.saldo += valor\n",
    "\n",
    "    def sacar(self, valor):\n",
    "        # Verifica se o saldo é suficiente para o saque\n",
    "        if self.saldo >= valor:\n",
    "            # Se o saldo for suficiente, subtrai o valor do saldo\n",
    "            self.saldo -= valor\n",
    "        else:\n",
    "            # Se o saldo não for suficiente, imprime uma mensagem de erro\n",
    "            print(\"Saldo insuficiente.\")\n",
    "            \n",
    "    def exibir_saldo(self):\n",
    "        # Exibe o saldo atual da conta com o nome do titular\n",
    "        print(f\"Saldo da conta de {self.titular}: R$ {self.saldo:.2f}\")\n",
    "\n",
    "# Cria uma instância da classe Contabancaria com o titular 'João' e saldo inicial de 1000\n",
    "conta = Contabancaria('João', 1000)\n",
    "# Chama o método exibir_saldo para exibir o saldo inicial da conta\n",
    "conta.exibir_saldo()\n",
    "# Solicita ao usuário que digite o valor a ser sacado e converte a entrada para um inteiro\n",
    "saque = int(input(\"Digite o valor a ser sacado: \"))\n",
    "# Imprime o valor sacado\n",
    "print(f' O valor sacado foi: R${saque}')\n",
    "# Chama o método sacar para realizar o saque do valor fornecido\n",
    "conta.sacar(saque)\n",
    "# Chama o método exibir_saldo para exibir o saldo após o saque\n",
    "conta.exibir_saldo()\n"
   ]
  },
  {
   "cell_type": "code",
   "execution_count": null,
   "metadata": {},
   "outputs": [
    {
     "name": "stdout",
     "output_type": "stream",
     "text": [
      "O livro Python para Inteligência Artificial, escrito por Sandeco, tem 177 páginas.\n"
     ]
    }
   ],
   "source": [
    "\"\"\"\n",
    "5. Crie uma classe Livro que tenha os atributos titulo, autor e numero_de_paginas.\n",
    "Adicione um método resumo() que exiba uma breve descrição do livro.\n",
    "\"\"\"\n",
    "class Livro:\n",
    "    def __init__(self, titulo, autor, numero_de_paginas):\n",
    "        # Inicializa os atributos titulo, autor e numero_de_paginas com os valores fornecidos\n",
    "        self.titulo = titulo\n",
    "        self.autor = autor\n",
    "        self.numero_de_paginas = numero_de_paginas\n",
    "        \n",
    "    def resumo(self):\n",
    "        # Exibe uma breve descrição do livro com o título, autor e número de páginas\n",
    "        print(f\"O livro {self.titulo}, escrito por {self.autor}, tem {self.numero_de_paginas} páginas.\")\n",
    "        \n",
    "# Cria uma instância da classe Livro com o título 'Python para Inteligência Artificial', autor 'Sandeco' e 177 páginas\n",
    "livro = Livro('Python para Inteligência Artificial', 'Sandeco', 177)\n",
    "# Chama o método resumo para exibir a descrição do livro\n",
    "resumo = livro.resumo()\n"
   ]
  },
  {
   "cell_type": "code",
   "execution_count": null,
   "metadata": {},
   "outputs": [
    {
     "name": "stdout",
     "output_type": "stream",
     "text": [
      "Maria foi aprovado.\n",
      "João foi reprovado.\n",
      "Ana foi aprovado.\n"
     ]
    }
   ],
   "source": [
    "\"\"\"\n",
    "6. Implemente uma classe Aluno com os atributos nome e nota. Crie um método aprovado()\n",
    "que retorne True se a nota for maior ou igual a 7, e False caso contrário.\n",
    "\"\"\"\n",
    "\"\"\"\n",
    "6. Implemente uma classe Aluno com os atributos nome e nota. Crie um método aprovado()\n",
    "que retorne True se a nota for maior ou igual a 7, e False caso contrário.\n",
    "\"\"\"\n",
    "\n",
    "# Define a classe Aluno com os atributos nome e nota\n",
    "class Aluno:\n",
    "    def __init__ (self, nome, nota):\n",
    "        # Inicializa os atributos nome e nota com os valores fornecidos\n",
    "        self.nome = nome\n",
    "        self.nota = nota\n",
    "\n",
    "    # Define o método aprovado que verifica se a nota é maior ou igual a 7\n",
    "    def aprovado(self):\n",
    "        # Retorna True se a nota for maior ou igual a 7, caso contrário, retorna False\n",
    "        return self.nota >= 7\n",
    "    \n",
    "# Cria uma lista de instâncias da classe Aluno com nomes e notas\n",
    "alunos = [Aluno('Maria', 8), Aluno('João', 5), Aluno('Ana', 7)]\n",
    "\n",
    "# Itera sobre a lista de alunos para verificar se foram aprovados\n",
    "for aluno in alunos:\n",
    "    # Verifica se o aluno foi aprovado chamando o método aprovado\n",
    "    if aluno.aprovado():\n",
    "        # Imprime uma mensagem indicando que o aluno foi aprovado\n",
    "        print(f\"{aluno.nome} foi aprovado.\")\n",
    "    else:\n",
    "        # Imprime uma mensagem indicando que o aluno foi reprovado\n",
    "        print(f\"{aluno.nome} foi reprovado.\")\n",
    "    "
   ]
  },
  {
   "cell_type": "code",
   "execution_count": null,
   "metadata": {},
   "outputs": [
    {
     "name": "stdout",
     "output_type": "stream",
     "text": [
      "Nome: Maria\n",
      "Salário: R$ 3000.00\n",
      "Cargo: Analista\n",
      "Nome: Maria\n",
      "Salário: R$ 3600.00\n",
      "Cargo: Gerente\n",
      "####\n",
      "Nome: Maria\n",
      "Salário: R$ 3000.00\n",
      "Cargo: Analista\n",
      "Nome: João\n",
      "Salário: R$ 4000.00\n",
      "Cargo: Desenvolvedor\n",
      "Nome: Ana\n",
      "Salário: R$ 5000.00\n",
      "Cargo: Gerente\n",
      "####\n",
      "Nome: Maria\n",
      "Salário: R$ 3000.00\n",
      "Cargo: Analista\n",
      "Nome: João\n",
      "Salário: R$ 4800.00\n",
      "Cargo: Gerente\n",
      "Nome: Ana\n",
      "Salário: R$ 5000.00\n",
      "Cargo: Gerente\n",
      "####\n"
     ]
    }
   ],
   "source": [
    "\"\"\"\n",
    "7. Crie uma classe Funcionario com os atributos nome, salario e cargo. Adicione um\n",
    "método promover(novo_cargo) que atualiza o cargo do funcionário e aumenta o salário\n",
    "em 20%.\n",
    "\"\"\"\n",
    "class Funcionario:\n",
    "    def __init__(self, nome, salario, cargo):\n",
    "        # Inicializa os atributos nome, salario e cargo com os valores fornecidos\n",
    "        self.nome = nome\n",
    "        self.salario = salario\n",
    "        self.cargo = cargo\n",
    "\n",
    "    def promover(self, novo_cargo):\n",
    "        # Atualiza o cargo do funcionário para o novo cargo fornecido\n",
    "        self.cargo = novo_cargo\n",
    "        # Aumenta o salário do funcionário em 20%\n",
    "        self.salario *= 1.2\n",
    "\n",
    "    def exibir_informacoes(self):\n",
    "        # Exibe o nome do funcionário\n",
    "        print(f\"Nome: {self.nome}\")\n",
    "        # Exibe o salário do funcionário formatado com duas casas decimais\n",
    "        print(f\"Salário: R$ {self.salario:.2f}\")\n",
    "        # Exibe o cargo do funcionário\n",
    "        print(f\"Cargo: {self.cargo}\")\n",
    "        \n",
    "# Cria uma instância da classe Funcionario com o nome 'Maria', salário 3000 e cargo 'Analista'\n",
    "funcionario1 = Funcionario('Maria', 3000, 'Analista')\n",
    "# Chama o método exibir_informacoes para exibir as informações do funcionário\n",
    "funcionario1.exibir_informacoes()\n",
    "# Chama o método promover para promover o funcionário para o cargo 'Gerente'\n",
    "funcionario1.promover('Gerente')\n",
    "# Chama o método exibir_informacoes novamente para exibir as informações atualizadas do funcionário\n",
    "funcionario1.exibir_informacoes()\n",
    "print(\"####\")\n",
    "# Cria uma lista de instâncias da classe Funcionario com diferentes nomes, salários e cargos\n",
    "funcionarios2 = [Funcionario('Maria', 3000, 'Analista'), Funcionario('João', 4000, 'Desenvolvedor'), Funcionario('Ana', 5000, 'Gerente')]\n",
    "# Itera sobre a lista de funcionários e chama o método exibir_informacoes para cada funcionário\n",
    "for funcionario in funcionarios2:\n",
    "    funcionario.exibir_informacoes()\n",
    "print(\"####\")\n",
    "# Itera sobre a lista de funcionários para promover o funcionário com nome 'João'\n",
    "for funcionario in funcionarios2:\n",
    "    if funcionario.nome == 'João':\n",
    "        # Chama o método promover para promover o funcionário 'João' para o cargo 'Gerente'\n",
    "        funcionario.promover('Gerente')\n",
    "    # Chama o método exibir_informacoes para exibir as informações do funcionário\n",
    "    funcionario.exibir_informacoes()\n",
    "print(\"####\")"
   ]
  },
  {
   "cell_type": "code",
   "execution_count": null,
   "metadata": {},
   "outputs": [
    {
     "name": "stdout",
     "output_type": "stream",
     "text": [
      "Estoque da loja:\n",
      "Camiseta: 50\n",
      "Calça: 30\n",
      "Venda de produtos:\n",
      "Estoque da loja:\n",
      "Camiseta: 30\n",
      "Calça: 30\n",
      "Venda de produtos:\n",
      "Estoque insuficiente.\n",
      "Estoque da loja:\n",
      "Camiseta: 30\n",
      "Calça: 30\n"
     ]
    }
   ],
   "source": [
    "\"\"\"\n",
    "8. Implemente uma classe Loja com o atributo estoque, que é um dicionário com os\n",
    "nomes dos produtos como chaves e as quantidades como valores. Adicione um método\n",
    "adicionar_produto(produto, quantidade) que atualiza o estoque e outro método\n",
    "vender(produto, quantidade) que reduz o estoque, garantindo que não fique nega-\n",
    "tivo.\n",
    "\"\"\"\n",
    "class Loja:\n",
    "    def __init__(self):\n",
    "        # Inicializa o atributo estoque como um dicionário vazio\n",
    "        self.estoque = {}\n",
    "\n",
    "    def adicionar_produto(self, produto, quantidade):\n",
    "        # Verifica se o produto já está no estoque\n",
    "        if produto in self.estoque:\n",
    "            # Se o produto já estiver no estoque, incrementa a quantidade\n",
    "            self.estoque[produto] += quantidade\n",
    "        else:\n",
    "            # Se o produto não estiver no estoque, adiciona o produto com a quantidade fornecida\n",
    "            self.estoque[produto] = quantidade\n",
    "\n",
    "    def vender(self, produto, quantidade):\n",
    "        # Verifica se o produto está no estoque\n",
    "        if produto in self.estoque:\n",
    "            # Verifica se a quantidade disponível no estoque é suficiente para a venda\n",
    "            if self.estoque[produto] >= quantidade:\n",
    "                # Se a quantidade for suficiente, reduz a quantidade no estoque\n",
    "                self.estoque[produto] -= quantidade\n",
    "            else:\n",
    "                # Se a quantidade for insuficiente, imprime uma mensagem de erro\n",
    "                print(\"Estoque insuficiente.\")\n",
    "        else:\n",
    "            # Se o produto não estiver no estoque, imprime uma mensagem de erro\n",
    "            print(\"Produto não encontrado no estoque.\")\n",
    "            \n",
    "    def exibir_estoque(self):\n",
    "        # Imprime o cabeçalho do estoque\n",
    "        print(\"Estoque da loja:\")\n",
    "        # Itera sobre os itens do dicionário estoque e imprime cada produto e sua quantidade\n",
    "        for produto, quantidade in self.estoque.items():\n",
    "            print(f\"{produto}: {quantidade}\")\n",
    "            \n",
    "# Cria uma instância da classe Loja\n",
    "loja = Loja()\n",
    "# Adiciona 50 unidades do produto 'Camiseta' ao estoque\n",
    "loja.adicionar_produto('Camiseta', 50)\n",
    "# Adiciona 30 unidades do produto 'Calça' ao estoque\n",
    "loja.adicionar_produto('Calça', 30)\n",
    "# Exibe o estoque atual da loja\n",
    "loja.exibir_estoque()\n",
    "print(\"Venda de produtos:\")\n",
    "# Vende 20 unidades do produto 'Camiseta'\n",
    "loja.vender('Camiseta', 20)\n",
    "# Exibe o estoque após a venda\n",
    "loja.exibir_estoque()\n",
    "print(\"Venda de produtos:\")\n",
    "# Tenta vender 40 unidades do produto 'Calça', mas o estoque é insuficiente\n",
    "loja.vender('Calça', 40)\n",
    "# Exibe o estoque após a tentativa de venda\n",
    "loja.exibir_estoque()"
   ]
  },
  {
   "cell_type": "code",
   "execution_count": null,
   "metadata": {},
   "outputs": [
    {
     "name": "stdout",
     "output_type": "stream",
     "text": [
      "Compromisso do dia 2024-12-25: Natal\n",
      "Nenhum compromisso encontrado para a data especificada.\n",
      "Nenhum compromisso encontrado para a data especificada.\n",
      "Compromisso do dia 2024-12-25: Natal\n"
     ]
    }
   ],
   "source": [
    "\"\"\"\n",
    "9. Crie uma classe Agenda que armazena compromissos. Cada compromisso tem uma\n",
    "data e uma descrição. Implemente métodos para adicionar compromissos, remover\n",
    "compromissos e exibir os compromissos de uma data específica.\n",
    "\"\"\"\n",
    "class Agenda:\n",
    "    def __init__(self, data, descricao):\n",
    "        # Inicializa o dicionário de compromissos com uma data e descrição fornecidas\n",
    "        self.compromissos = {data: descricao}\n",
    "    \n",
    "    def adicionar_compromisso(self, data, descricao):\n",
    "        # Adiciona um compromisso ao dicionário com a data e descrição fornecidas\n",
    "        self.compromissos[data] = descricao\n",
    "        \n",
    "    def remover_compromisso(self, data):\n",
    "        # Verifica se a data está no dicionário de compromissos\n",
    "        if data in self.compromissos:\n",
    "            # Remove o compromisso da data fornecida\n",
    "            del self.compromissos[data]\n",
    "        else:\n",
    "            # Imprime uma mensagem se o compromisso não for encontrado\n",
    "            print(\"Compromisso não encontrado.\")\n",
    "    \n",
    "    def exibir_compromissos(self, data):\n",
    "        # Verifica se a data está no dicionário de compromissos\n",
    "        if data in self.compromissos:\n",
    "            # Imprime o compromisso da data fornecida\n",
    "            print(f\"Compromisso do dia {data}: {self.compromissos[data]}\")\n",
    "        else:\n",
    "            # Imprime uma mensagem se nenhum compromisso for encontrado para a data especificada\n",
    "            print(\"Nenhum compromisso encontrado para a data especificada.\")\n",
    "            \n",
    "# Cria uma instância da classe Agenda com um compromisso inicial\n",
    "agenda = Agenda('2024-12-25', 'Natal')\n",
    "# Adiciona um compromisso para o dia 31 de dezembro de 2024\n",
    "agenda.adicionar_compromisso('2024-12-31', 'Ano Novo')\n",
    "# Exibe o compromisso do dia 25 de dezembro de 2024\n",
    "agenda.exibir_compromissos(\"2024-12-25\")\n",
    "# Tenta exibir o compromisso do dia 26 de dezembro de 2024 (não existe)\n",
    "agenda.exibir_compromissos(\"2024-12-26\")\n",
    "# Remove o compromisso do dia 25 de dezembro de 2024\n",
    "agenda.remover_compromisso('2024-12-25')\n",
    "# Tenta exibir o compromisso do dia 25 de dezembro de 2024 (foi removido)\n",
    "agenda.exibir_compromissos(\"2024-12-25\")\n",
    "# Adiciona novamente o compromisso para o dia 25 de dezembro de 2024\n",
    "agenda.adicionar_compromisso('2024-12-25', 'Natal')\n",
    "# Exibe o compromisso do dia 25 de dezembro de 2024\n",
    "agenda.exibir_compromissos(\"2024-12-25\")"
   ]
  },
  {
   "cell_type": "code",
   "execution_count": null,
   "metadata": {},
   "outputs": [
    {
     "name": "stdout",
     "output_type": "stream",
     "text": [
      "Matriz original:\n",
      "[[1, 2], [3, 4]]\n",
      "Matriz transposta:\n",
      "[[1, 3], [2, 4]]\n",
      "Determinante da matriz:\n",
      "-2.0000000000000004\n",
      "Matriz multiplicada:\n",
      "[[19, 22], [43, 50]]\n",
      "Matriz multiplicada:\n",
      "[[9, 12, 15], [19, 26, 33]]\n"
     ]
    }
   ],
   "source": [
    "\"\"\"\n",
    "10. Implemente uma classe Matriz que receba uma matriz como um atributo. Adicione\n",
    "métodos para transpor a matriz, calcular seu determinante e multiplicá-la por outra\n",
    "matriz. Garanta que a multiplicação seja possível verificando as dimensões.\n",
    "\"\"\"\n",
    "import numpy as np\n",
    "\n",
    "# Define a classe Matriz\n",
    "class Matriz:\n",
    "    # Método inicializador que recebe uma matriz como atributo\n",
    "    def __init__(self, matriz):\n",
    "        self.matriz = matriz\n",
    "\n",
    "    # Método para transpor a matriz\n",
    "    def transpor(self):\n",
    "        # Retorna a matriz transposta usando list comprehension\n",
    "        return [[self.matriz[j][i] for j in range(len(self.matriz))] for i in range(len(self.matriz[0]))]\n",
    "\n",
    "    # Método para calcular o determinante da matriz\n",
    "    def determinante(self):\n",
    "        # Verifica se a matriz é quadrada\n",
    "        if len(self.matriz) == len(self.matriz[0]):\n",
    "            # Calcula e retorna o determinante usando a função linalg.det do NumPy\n",
    "            return np.linalg.det(self.matriz)\n",
    "        else:\n",
    "            # Retorna uma mensagem de erro se a matriz não for quadrada\n",
    "            return \"A matriz não é quadrada, portanto não possui determinante.\"\n",
    "\n",
    "    # Método para multiplicar a matriz por outra matriz\n",
    "    def multiplicar(self, outra_matriz):\n",
    "        # Verifica se as dimensões das matrizes são compatíveis para multiplicação\n",
    "        if len(self.matriz[0]) == len(outra_matriz):\n",
    "            # Retorna o resultado da multiplicação de matrizes usando list comprehension\n",
    "            return [[sum(a*b for a, b in zip(linha, coluna)) for coluna in zip(*outra_matriz)] for linha in self.matriz]\n",
    "        else:\n",
    "            # Retorna uma mensagem de erro se as dimensões não forem compatíveis\n",
    "            return \"As dimensões das matrizes não são compatíveis para multiplicação.\"\n",
    "\n",
    "# Cria uma instância da classe Matriz com uma matriz 2x2\n",
    "matriz1 = Matriz([[1, 2], [3, 4]])\n",
    "print(\"Matriz original:\")\n",
    "# Imprime a matriz original\n",
    "print(matriz1.matriz)\n",
    "print(\"Matriz transposta:\")\n",
    "# Imprime a matriz transposta\n",
    "print(matriz1.transpor())\n",
    "print(\"Determinante da matriz:\")\n",
    "# Imprime o determinante da matriz\n",
    "print(matriz1.determinante())\n",
    "\n",
    "# Cria uma segunda instância da classe Matriz com outra matriz 2x2\n",
    "matriz2 = Matriz([[5, 6], [7, 8]])\n",
    "print(\"Matriz multiplicada:\")\n",
    "# Imprime o resultado da multiplicação das duas matrizes\n",
    "print(matriz1.multiplicar(matriz2.matriz))\n",
    "\n",
    "# Cria uma terceira instância da classe Matriz com uma matriz 2x3\n",
    "matriz3 = Matriz([[1, 2, 3], [4, 5, 6]])\n",
    "print(\"Matriz multiplicada:\")\n",
    "# Tenta multiplicar a primeira matriz pela terceira matriz e imprime o resultado\n",
    "print(matriz1.multiplicar(matriz3.matriz))\n",
    "\n"
   ]
  }
 ],
 "metadata": {
  "kernelspec": {
   "display_name": "Python 3",
   "language": "python",
   "name": "python3"
  },
  "language_info": {
   "codemirror_mode": {
    "name": "ipython",
    "version": 3
   },
   "file_extension": ".py",
   "mimetype": "text/x-python",
   "name": "python",
   "nbconvert_exporter": "python",
   "pygments_lexer": "ipython3",
   "version": "3.11.9"
  }
 },
 "nbformat": 4,
 "nbformat_minor": 2
}
